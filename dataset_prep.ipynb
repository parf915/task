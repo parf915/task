{
 "cells": [
  {
   "cell_type": "code",
   "execution_count": 1,
   "id": "0fb56153-f1d0-4641-93a8-7a2cb04ecabb",
   "metadata": {
    "tags": []
   },
   "outputs": [
    {
     "data": {
      "text/plain": [
       "'molten-unison-414815'"
      ]
     },
     "execution_count": 1,
     "metadata": {},
     "output_type": "execute_result"
    }
   ],
   "source": [
    "project = !gcloud config get-value project\n",
    "PROJECT_ID = project[0]\n",
    "PROJECT_ID"
   ]
  },
  {
   "cell_type": "code",
   "execution_count": 2,
   "id": "6403854c-3dbb-434a-b85e-4e86b327ec4c",
   "metadata": {
    "tags": []
   },
   "outputs": [],
   "source": [
    "REGION = 'us-central1'\n",
    "EXPERIMENT = '01'\n",
    "SERIES = '01'\n",
    "\n",
    "# source data\n",
    "BQ_PROJECT = PROJECT_ID\n",
    "BQ_DATASET = 'fraud'\n",
    "BQ_TABLE = 'fraud'\n",
    "\n",
    "# Data source for this series of notebooks: Described above\n",
    "BQ_SOURCE = 'bigquery-public-data.ml_datasets.ulb_fraud_detection'"
   ]
  },
  {
   "cell_type": "code",
   "execution_count": 3,
   "id": "a1dfa5cd-a734-4a31-9a80-0d102b338deb",
   "metadata": {
    "tags": []
   },
   "outputs": [],
   "source": [
    "from google.cloud import bigquery\n",
    "from google.cloud import storage"
   ]
  },
  {
   "cell_type": "code",
   "execution_count": 4,
   "id": "56ec4f2f-8116-4c6e-913e-23a36a9f17b8",
   "metadata": {
    "tags": []
   },
   "outputs": [],
   "source": [
    "bq = bigquery.Client(project = PROJECT_ID)\n",
    "gcs = storage.Client(project = PROJECT_ID)"
   ]
  },
  {
   "cell_type": "code",
   "execution_count": 5,
   "id": "edd6d4fe-7b83-4e3f-9749-4562367e0fa1",
   "metadata": {
    "tags": []
   },
   "outputs": [],
   "source": [
    "BUCKET = PROJECT_ID"
   ]
  },
  {
   "cell_type": "code",
   "execution_count": 6,
   "id": "a741dabe-923d-4506-a01f-ef678dc9d997",
   "metadata": {
    "tags": []
   },
   "outputs": [],
   "source": [
    "file = f\"{SERIES}/{EXPERIMENT}/data/{BQ_TABLE}.csv\""
   ]
  },
  {
   "cell_type": "code",
   "execution_count": 7,
   "id": "cbc610e0-1956-4983-a965-caf7328c545b",
   "metadata": {
    "tags": []
   },
   "outputs": [
    {
     "name": "stdout",
     "output_type": "stream",
     "text": [
      "Creating the export ...\n",
      "Exported the table to: gs://molten-unison-414815/01/01/data/fraud.csv\n"
     ]
    }
   ],
   "source": [
    "bucketDef = gcs.bucket(BUCKET)\n",
    "if storage.Blob(bucket = bucketDef, name = file).exists(gcs):\n",
    "    print(f'The file has already been created at: gs://{bucketDef.name}/{file}')\n",
    "else:\n",
    "    source = bigquery.TableReference.from_string(BQ_SOURCE)\n",
    "    extract = bq.extract_table(source = source, destination_uris = [f'gs://{bucketDef.name}/{file}'])\n",
    "    print('Creating the export ...')\n",
    "    extract.result()\n",
    "    print(f'Exported the table to: gs://{bucketDef.name}/{file}')"
   ]
  },
  {
   "cell_type": "code",
   "execution_count": 8,
   "id": "c6272c19-9e74-4f58-abae-47bb3820dd3a",
   "metadata": {
    "tags": []
   },
   "outputs": [
    {
     "data": {
      "text/plain": [
       "[<Blob: molten-unison-414815, 01/01/data/fraud.csv, 1708450699481579>]"
      ]
     },
     "execution_count": 8,
     "metadata": {},
     "output_type": "execute_result"
    }
   ],
   "source": [
    "list(bucketDef.list_blobs(prefix = f'{SERIES}/{EXPERIMENT}'))\n",
    "\n"
   ]
  },
  {
   "cell_type": "code",
   "execution_count": 9,
   "id": "17902a5e-395d-4756-9b1f-941160776941",
   "metadata": {
    "tags": []
   },
   "outputs": [
    {
     "name": "stdout",
     "output_type": "stream",
     "text": [
      "Review the files in the console here:\n",
      "https://console.cloud.google.com/storage/browser/molten-unison-414815/01;tab=objects&project=molten-unison-414815\n"
     ]
    }
   ],
   "source": [
    "print(f'Review the files in the console here:\\nhttps://console.cloud.google.com/storage/browser/{PROJECT_ID}/{SERIES};tab=objects&project={PROJECT_ID}')\n"
   ]
  },
  {
   "cell_type": "code",
   "execution_count": 10,
   "id": "cf37f1f5-e22a-419e-b080-ebc9e03970a9",
   "metadata": {
    "tags": []
   },
   "outputs": [
    {
     "name": "stdout",
     "output_type": "stream",
     "text": [
      "iris_dataset\n"
     ]
    }
   ],
   "source": [
    "datasets = list(bq.list_datasets())\n",
    "for d in datasets:\n",
    "    print(d.dataset_id)"
   ]
  },
  {
   "cell_type": "code",
   "execution_count": 11,
   "id": "a50581b7-74b9-4c6e-98d6-8e1f020ef89a",
   "metadata": {
    "tags": []
   },
   "outputs": [],
   "source": [
    "ds = bigquery.Dataset(f\"{BQ_PROJECT}.{BQ_DATASET}\")\n",
    "ds.location = REGION\n",
    "ds.labels = {'experiment': f'{EXPERIMENT}'}\n",
    "ds = bq.create_dataset(dataset = ds, exists_ok = True)"
   ]
  },
  {
   "cell_type": "code",
   "execution_count": 12,
   "id": "bc808c6d-8906-40d0-b1eb-505961bc879f",
   "metadata": {
    "tags": []
   },
   "outputs": [
    {
     "name": "stdout",
     "output_type": "stream",
     "text": [
      "fraud\n",
      "iris_dataset\n"
     ]
    }
   ],
   "source": [
    "datasets = list(bq.list_datasets())\n",
    "for d in datasets:\n",
    "    print(d.dataset_id)"
   ]
  },
  {
   "cell_type": "code",
   "execution_count": 13,
   "id": "62faf196-e6a6-4685-87ef-a38677d29bf9",
   "metadata": {
    "tags": []
   },
   "outputs": [
    {
     "name": "stdout",
     "output_type": "stream",
     "text": [
      "Creating Table ...\n",
      "Finished creating table: molten-unison-414815.fraud.fraud\n"
     ]
    }
   ],
   "source": [
    "from google.cloud.exceptions import NotFound\n",
    "try:\n",
    "    table = bq.get_table(f'{BQ_PROJECT}.{BQ_DATASET}.{BQ_TABLE}')\n",
    "    if table:\n",
    "        print(f'The table already exists: {BQ_PROJECT}.{BQ_DATASET}.{BQ_TABLE}')\n",
    "except NotFound as error:\n",
    "    print(f'Creating Table ...')\n",
    "    destination = bigquery.TableReference.from_string(f\"{BQ_PROJECT}.{BQ_DATASET}.{BQ_TABLE}\")\n",
    "    job_config = bigquery.LoadJobConfig(\n",
    "        write_disposition = 'WRITE_TRUNCATE',\n",
    "        source_format = bigquery.SourceFormat.CSV,\n",
    "        autodetect = True,\n",
    "        labels = {'experiment': f'{EXPERIMENT}'}\n",
    "    )\n",
    "    job = bq.load_table_from_uri(f\"gs://{bucketDef.name}/{file}\", destination, job_config = job_config)\n",
    "    job.result()\n",
    "    print(f'Finished creating table: {BQ_PROJECT}.{BQ_DATASET}.{BQ_TABLE}')"
   ]
  },
  {
   "cell_type": "code",
   "execution_count": 14,
   "id": "dde716fa-65e9-489a-8733-fd27febbfa85",
   "metadata": {
    "tags": []
   },
   "outputs": [
    {
     "data": {
      "text/html": [
       "<div>\n",
       "<style scoped>\n",
       "    .dataframe tbody tr th:only-of-type {\n",
       "        vertical-align: middle;\n",
       "    }\n",
       "\n",
       "    .dataframe tbody tr th {\n",
       "        vertical-align: top;\n",
       "    }\n",
       "\n",
       "    .dataframe thead th {\n",
       "        text-align: right;\n",
       "    }\n",
       "</style>\n",
       "<table border=\"1\" class=\"dataframe\">\n",
       "  <thead>\n",
       "    <tr style=\"text-align: right;\">\n",
       "      <th></th>\n",
       "      <th>Time</th>\n",
       "      <th>V1</th>\n",
       "      <th>V2</th>\n",
       "      <th>V3</th>\n",
       "      <th>V4</th>\n",
       "      <th>V5</th>\n",
       "      <th>V6</th>\n",
       "      <th>V7</th>\n",
       "      <th>V8</th>\n",
       "      <th>V9</th>\n",
       "      <th>...</th>\n",
       "      <th>V21</th>\n",
       "      <th>V22</th>\n",
       "      <th>V23</th>\n",
       "      <th>V24</th>\n",
       "      <th>V25</th>\n",
       "      <th>V26</th>\n",
       "      <th>V27</th>\n",
       "      <th>V28</th>\n",
       "      <th>Amount</th>\n",
       "      <th>Class</th>\n",
       "    </tr>\n",
       "  </thead>\n",
       "  <tbody>\n",
       "    <tr>\n",
       "      <th>0</th>\n",
       "      <td>150336</td>\n",
       "      <td>2.030851</td>\n",
       "      <td>-0.235559</td>\n",
       "      <td>-2.804940</td>\n",
       "      <td>-0.547376</td>\n",
       "      <td>2.441730</td>\n",
       "      <td>3.277629</td>\n",
       "      <td>-0.652959</td>\n",
       "      <td>0.843118</td>\n",
       "      <td>0.542395</td>\n",
       "      <td>...</td>\n",
       "      <td>-0.058377</td>\n",
       "      <td>-0.092950</td>\n",
       "      <td>0.203618</td>\n",
       "      <td>0.642094</td>\n",
       "      <td>-0.105975</td>\n",
       "      <td>0.502090</td>\n",
       "      <td>-0.024706</td>\n",
       "      <td>-0.040995</td>\n",
       "      <td>0.78</td>\n",
       "      <td>0</td>\n",
       "    </tr>\n",
       "    <tr>\n",
       "      <th>1</th>\n",
       "      <td>84068</td>\n",
       "      <td>-0.679466</td>\n",
       "      <td>1.334849</td>\n",
       "      <td>1.367987</td>\n",
       "      <td>0.856085</td>\n",
       "      <td>0.000189</td>\n",
       "      <td>-0.701735</td>\n",
       "      <td>0.582134</td>\n",
       "      <td>-0.003885</td>\n",
       "      <td>-0.741823</td>\n",
       "      <td>...</td>\n",
       "      <td>0.077499</td>\n",
       "      <td>0.311384</td>\n",
       "      <td>-0.095417</td>\n",
       "      <td>0.413387</td>\n",
       "      <td>-0.212580</td>\n",
       "      <td>-0.457638</td>\n",
       "      <td>-0.250283</td>\n",
       "      <td>-0.139162</td>\n",
       "      <td>0.78</td>\n",
       "      <td>0</td>\n",
       "    </tr>\n",
       "    <tr>\n",
       "      <th>2</th>\n",
       "      <td>122091</td>\n",
       "      <td>2.141596</td>\n",
       "      <td>0.077735</td>\n",
       "      <td>-2.104923</td>\n",
       "      <td>0.061232</td>\n",
       "      <td>0.368903</td>\n",
       "      <td>-1.825884</td>\n",
       "      <td>0.748172</td>\n",
       "      <td>-0.564815</td>\n",
       "      <td>0.354072</td>\n",
       "      <td>...</td>\n",
       "      <td>0.131269</td>\n",
       "      <td>0.490071</td>\n",
       "      <td>-0.035338</td>\n",
       "      <td>0.008649</td>\n",
       "      <td>0.415350</td>\n",
       "      <td>0.245709</td>\n",
       "      <td>-0.091809</td>\n",
       "      <td>-0.081979</td>\n",
       "      <td>0.78</td>\n",
       "      <td>0</td>\n",
       "    </tr>\n",
       "    <tr>\n",
       "      <th>3</th>\n",
       "      <td>136167</td>\n",
       "      <td>2.073311</td>\n",
       "      <td>0.265580</td>\n",
       "      <td>-1.745544</td>\n",
       "      <td>0.492756</td>\n",
       "      <td>0.286109</td>\n",
       "      <td>-1.427709</td>\n",
       "      <td>0.310907</td>\n",
       "      <td>-0.422277</td>\n",
       "      <td>0.505541</td>\n",
       "      <td>...</td>\n",
       "      <td>0.191552</td>\n",
       "      <td>0.767662</td>\n",
       "      <td>-0.043917</td>\n",
       "      <td>-0.156863</td>\n",
       "      <td>0.295408</td>\n",
       "      <td>-0.096150</td>\n",
       "      <td>0.002101</td>\n",
       "      <td>-0.031715</td>\n",
       "      <td>0.78</td>\n",
       "      <td>0</td>\n",
       "    </tr>\n",
       "    <tr>\n",
       "      <th>4</th>\n",
       "      <td>150523</td>\n",
       "      <td>2.032967</td>\n",
       "      <td>-0.387542</td>\n",
       "      <td>-0.505876</td>\n",
       "      <td>0.350922</td>\n",
       "      <td>-0.424833</td>\n",
       "      <td>-0.134032</td>\n",
       "      <td>-0.623411</td>\n",
       "      <td>-0.005357</td>\n",
       "      <td>1.481508</td>\n",
       "      <td>...</td>\n",
       "      <td>0.151034</td>\n",
       "      <td>0.737664</td>\n",
       "      <td>0.044700</td>\n",
       "      <td>-0.682962</td>\n",
       "      <td>-0.007459</td>\n",
       "      <td>-0.166488</td>\n",
       "      <td>0.047286</td>\n",
       "      <td>-0.044997</td>\n",
       "      <td>0.78</td>\n",
       "      <td>0</td>\n",
       "    </tr>\n",
       "    <tr>\n",
       "      <th>...</th>\n",
       "      <td>...</td>\n",
       "      <td>...</td>\n",
       "      <td>...</td>\n",
       "      <td>...</td>\n",
       "      <td>...</td>\n",
       "      <td>...</td>\n",
       "      <td>...</td>\n",
       "      <td>...</td>\n",
       "      <td>...</td>\n",
       "      <td>...</td>\n",
       "      <td>...</td>\n",
       "      <td>...</td>\n",
       "      <td>...</td>\n",
       "      <td>...</td>\n",
       "      <td>...</td>\n",
       "      <td>...</td>\n",
       "      <td>...</td>\n",
       "      <td>...</td>\n",
       "      <td>...</td>\n",
       "      <td>...</td>\n",
       "      <td>...</td>\n",
       "    </tr>\n",
       "    <tr>\n",
       "      <th>142401</th>\n",
       "      <td>154599</td>\n",
       "      <td>0.667714</td>\n",
       "      <td>3.041502</td>\n",
       "      <td>-5.845112</td>\n",
       "      <td>5.967587</td>\n",
       "      <td>0.213863</td>\n",
       "      <td>-1.462923</td>\n",
       "      <td>-2.688761</td>\n",
       "      <td>0.677764</td>\n",
       "      <td>-3.447596</td>\n",
       "      <td>...</td>\n",
       "      <td>0.329760</td>\n",
       "      <td>-0.941383</td>\n",
       "      <td>-0.006075</td>\n",
       "      <td>-0.958925</td>\n",
       "      <td>0.239298</td>\n",
       "      <td>-0.067356</td>\n",
       "      <td>0.821048</td>\n",
       "      <td>0.426175</td>\n",
       "      <td>6.74</td>\n",
       "      <td>1</td>\n",
       "    </tr>\n",
       "    <tr>\n",
       "      <th>142402</th>\n",
       "      <td>90676</td>\n",
       "      <td>-2.405580</td>\n",
       "      <td>3.738235</td>\n",
       "      <td>-2.317843</td>\n",
       "      <td>1.367442</td>\n",
       "      <td>0.394001</td>\n",
       "      <td>1.919938</td>\n",
       "      <td>-3.106942</td>\n",
       "      <td>-10.764403</td>\n",
       "      <td>3.353525</td>\n",
       "      <td>...</td>\n",
       "      <td>10.005998</td>\n",
       "      <td>-2.454964</td>\n",
       "      <td>1.684957</td>\n",
       "      <td>0.118263</td>\n",
       "      <td>-1.531380</td>\n",
       "      <td>-0.695308</td>\n",
       "      <td>-0.152502</td>\n",
       "      <td>-0.138866</td>\n",
       "      <td>6.99</td>\n",
       "      <td>1</td>\n",
       "    </tr>\n",
       "    <tr>\n",
       "      <th>142403</th>\n",
       "      <td>34634</td>\n",
       "      <td>0.333499</td>\n",
       "      <td>1.699873</td>\n",
       "      <td>-2.596561</td>\n",
       "      <td>3.643945</td>\n",
       "      <td>-0.585068</td>\n",
       "      <td>-0.654659</td>\n",
       "      <td>-2.275789</td>\n",
       "      <td>0.675229</td>\n",
       "      <td>-2.042416</td>\n",
       "      <td>...</td>\n",
       "      <td>0.469212</td>\n",
       "      <td>-0.144363</td>\n",
       "      <td>-0.317981</td>\n",
       "      <td>-0.769644</td>\n",
       "      <td>0.807855</td>\n",
       "      <td>0.228164</td>\n",
       "      <td>0.551002</td>\n",
       "      <td>0.305473</td>\n",
       "      <td>18.96</td>\n",
       "      <td>1</td>\n",
       "    </tr>\n",
       "    <tr>\n",
       "      <th>142404</th>\n",
       "      <td>96135</td>\n",
       "      <td>-1.952933</td>\n",
       "      <td>3.541385</td>\n",
       "      <td>-1.310561</td>\n",
       "      <td>5.955664</td>\n",
       "      <td>-1.003993</td>\n",
       "      <td>0.983049</td>\n",
       "      <td>-4.587235</td>\n",
       "      <td>-4.892184</td>\n",
       "      <td>-2.516752</td>\n",
       "      <td>...</td>\n",
       "      <td>-1.998091</td>\n",
       "      <td>1.133706</td>\n",
       "      <td>-0.041461</td>\n",
       "      <td>-0.215379</td>\n",
       "      <td>-0.865599</td>\n",
       "      <td>0.212545</td>\n",
       "      <td>0.532897</td>\n",
       "      <td>0.357892</td>\n",
       "      <td>18.96</td>\n",
       "      <td>1</td>\n",
       "    </tr>\n",
       "    <tr>\n",
       "      <th>142405</th>\n",
       "      <td>4462</td>\n",
       "      <td>-2.303350</td>\n",
       "      <td>1.759247</td>\n",
       "      <td>-0.359745</td>\n",
       "      <td>2.330243</td>\n",
       "      <td>-0.821628</td>\n",
       "      <td>-0.075788</td>\n",
       "      <td>0.562320</td>\n",
       "      <td>-0.399147</td>\n",
       "      <td>-0.238253</td>\n",
       "      <td>...</td>\n",
       "      <td>-0.294166</td>\n",
       "      <td>-0.932391</td>\n",
       "      <td>0.172726</td>\n",
       "      <td>-0.087330</td>\n",
       "      <td>-0.156114</td>\n",
       "      <td>-0.542628</td>\n",
       "      <td>0.039566</td>\n",
       "      <td>-0.153029</td>\n",
       "      <td>239.93</td>\n",
       "      <td>1</td>\n",
       "    </tr>\n",
       "  </tbody>\n",
       "</table>\n",
       "<p>142406 rows × 31 columns</p>\n",
       "</div>"
      ],
      "text/plain": [
       "          Time        V1        V2        V3        V4        V5        V6  \\\n",
       "0       150336  2.030851 -0.235559 -2.804940 -0.547376  2.441730  3.277629   \n",
       "1        84068 -0.679466  1.334849  1.367987  0.856085  0.000189 -0.701735   \n",
       "2       122091  2.141596  0.077735 -2.104923  0.061232  0.368903 -1.825884   \n",
       "3       136167  2.073311  0.265580 -1.745544  0.492756  0.286109 -1.427709   \n",
       "4       150523  2.032967 -0.387542 -0.505876  0.350922 -0.424833 -0.134032   \n",
       "...        ...       ...       ...       ...       ...       ...       ...   \n",
       "142401  154599  0.667714  3.041502 -5.845112  5.967587  0.213863 -1.462923   \n",
       "142402   90676 -2.405580  3.738235 -2.317843  1.367442  0.394001  1.919938   \n",
       "142403   34634  0.333499  1.699873 -2.596561  3.643945 -0.585068 -0.654659   \n",
       "142404   96135 -1.952933  3.541385 -1.310561  5.955664 -1.003993  0.983049   \n",
       "142405    4462 -2.303350  1.759247 -0.359745  2.330243 -0.821628 -0.075788   \n",
       "\n",
       "              V7         V8        V9  ...        V21       V22       V23  \\\n",
       "0      -0.652959   0.843118  0.542395  ...  -0.058377 -0.092950  0.203618   \n",
       "1       0.582134  -0.003885 -0.741823  ...   0.077499  0.311384 -0.095417   \n",
       "2       0.748172  -0.564815  0.354072  ...   0.131269  0.490071 -0.035338   \n",
       "3       0.310907  -0.422277  0.505541  ...   0.191552  0.767662 -0.043917   \n",
       "4      -0.623411  -0.005357  1.481508  ...   0.151034  0.737664  0.044700   \n",
       "...          ...        ...       ...  ...        ...       ...       ...   \n",
       "142401 -2.688761   0.677764 -3.447596  ...   0.329760 -0.941383 -0.006075   \n",
       "142402 -3.106942 -10.764403  3.353525  ...  10.005998 -2.454964  1.684957   \n",
       "142403 -2.275789   0.675229 -2.042416  ...   0.469212 -0.144363 -0.317981   \n",
       "142404 -4.587235  -4.892184 -2.516752  ...  -1.998091  1.133706 -0.041461   \n",
       "142405  0.562320  -0.399147 -0.238253  ...  -0.294166 -0.932391  0.172726   \n",
       "\n",
       "             V24       V25       V26       V27       V28  Amount  Class  \n",
       "0       0.642094 -0.105975  0.502090 -0.024706 -0.040995    0.78      0  \n",
       "1       0.413387 -0.212580 -0.457638 -0.250283 -0.139162    0.78      0  \n",
       "2       0.008649  0.415350  0.245709 -0.091809 -0.081979    0.78      0  \n",
       "3      -0.156863  0.295408 -0.096150  0.002101 -0.031715    0.78      0  \n",
       "4      -0.682962 -0.007459 -0.166488  0.047286 -0.044997    0.78      0  \n",
       "...          ...       ...       ...       ...       ...     ...    ...  \n",
       "142401 -0.958925  0.239298 -0.067356  0.821048  0.426175    6.74      1  \n",
       "142402  0.118263 -1.531380 -0.695308 -0.152502 -0.138866    6.99      1  \n",
       "142403 -0.769644  0.807855  0.228164  0.551002  0.305473   18.96      1  \n",
       "142404 -0.215379 -0.865599  0.212545  0.532897  0.357892   18.96      1  \n",
       "142405 -0.087330 -0.156114 -0.542628  0.039566 -0.153029  239.93      1  \n",
       "\n",
       "[142406 rows x 31 columns]"
      ]
     },
     "execution_count": 14,
     "metadata": {},
     "output_type": "execute_result"
    }
   ],
   "source": [
    "query = f\"\"\"\n",
    "SELECT *\n",
    "FROM `{BQ_PROJECT}.{BQ_DATASET}.{BQ_TABLE}` TABLESAMPLE SYSTEM (1 PERCENT)\n",
    "#LIMIT 5\n",
    "\"\"\"\n",
    "bq.query(query = query).to_dataframe()"
   ]
  },
  {
   "cell_type": "code",
   "execution_count": 15,
   "id": "842bb6a1-0f88-41b8-b392-1252fc1eb717",
   "metadata": {
    "tags": []
   },
   "outputs": [
    {
     "name": "stdout",
     "output_type": "stream",
     "text": [
      "Direct Link To This Project In BigQuery:\n",
      "https://console.cloud.google.com/bigquery?project=molten-unison-414815\n"
     ]
    }
   ],
   "source": [
    "print(f\"Direct Link To This Project In BigQuery:\\nhttps://console.cloud.google.com/bigquery?project={PROJECT_ID}\")\n"
   ]
  },
  {
   "cell_type": "code",
   "execution_count": 16,
   "id": "04abeb1a-0fdf-4e30-8761-c099ff5889c7",
   "metadata": {
    "tags": []
   },
   "outputs": [],
   "source": [
    "query = f\"\"\"\n",
    "SELECT Class\n",
    "FROM `{BQ_PROJECT}.{BQ_DATASET}.{BQ_TABLE}`\n",
    "\"\"\"\n",
    "df = bq.query(query = query).to_dataframe()"
   ]
  },
  {
   "cell_type": "code",
   "execution_count": 17,
   "id": "3cb1098b-c1e0-4ec0-b57b-36695a12006d",
   "metadata": {
    "tags": []
   },
   "outputs": [
    {
     "data": {
      "text/plain": [
       "Class\n",
       "0    284315\n",
       "1       492\n",
       "Name: count, dtype: Int64"
      ]
     },
     "execution_count": 17,
     "metadata": {},
     "output_type": "execute_result"
    }
   ],
   "source": [
    "df['Class'].value_counts()\n"
   ]
  },
  {
   "cell_type": "code",
   "execution_count": 18,
   "id": "d07a9b16-ca06-4d8c-97ac-2995f861faf8",
   "metadata": {
    "tags": []
   },
   "outputs": [
    {
     "data": {
      "text/plain": [
       "<google.cloud.bigquery.table._EmptyRowIterator at 0x7f1e9f19feb0>"
      ]
     },
     "execution_count": 18,
     "metadata": {},
     "output_type": "execute_result"
    }
   ],
   "source": [
    "query = f\"\"\"\n",
    "CREATE TABLE IF NOT EXISTS `{BQ_PROJECT}.{BQ_DATASET}.{BQ_TABLE}_prepped` AS\n",
    "WITH add_id AS(SELECT *, GENERATE_UUID() transaction_id FROM `{BQ_PROJECT}.{BQ_DATASET}.{BQ_TABLE}`)\n",
    "SELECT *,\n",
    "    CASE \n",
    "        WHEN MOD(ABS(FARM_FINGERPRINT(transaction_id)),10) < 8 THEN \"TRAIN\" \n",
    "        WHEN MOD(ABS(FARM_FINGERPRINT(transaction_id)),10) < 9 THEN \"VALIDATE\"\n",
    "        ELSE \"TEST\"\n",
    "    END AS splits\n",
    "FROM add_id\n",
    "\"\"\"\n",
    "job = bq.query(query = query)\n",
    "job.result()"
   ]
  },
  {
   "cell_type": "code",
   "execution_count": 19,
   "id": "d06ecd5b-6a71-4548-8916-47b24ff77f8c",
   "metadata": {
    "tags": []
   },
   "outputs": [
    {
     "data": {
      "text/plain": [
       "7.577"
      ]
     },
     "execution_count": 19,
     "metadata": {},
     "output_type": "execute_result"
    }
   ],
   "source": [
    "(job.ended-job.started).total_seconds()\n"
   ]
  },
  {
   "cell_type": "code",
   "execution_count": 20,
   "id": "fd32a059-9264-4cee-87d9-ad46cd8ae101",
   "metadata": {
    "tags": []
   },
   "outputs": [
    {
     "name": "stdout",
     "output_type": "stream",
     "text": [
      "70.632136 MB\n"
     ]
    }
   ],
   "source": [
    "if job.estimated_bytes_processed:\n",
    "    print(f'{job.estimated_bytes_processed/1000000} MB')"
   ]
  },
  {
   "cell_type": "code",
   "execution_count": 21,
   "id": "791939fb-7c0b-4038-9e34-c87c84590fb5",
   "metadata": {
    "tags": []
   },
   "outputs": [
    {
     "data": {
      "text/html": [
       "<div>\n",
       "<style scoped>\n",
       "    .dataframe tbody tr th:only-of-type {\n",
       "        vertical-align: middle;\n",
       "    }\n",
       "\n",
       "    .dataframe tbody tr th {\n",
       "        vertical-align: top;\n",
       "    }\n",
       "\n",
       "    .dataframe thead th {\n",
       "        text-align: right;\n",
       "    }\n",
       "</style>\n",
       "<table border=\"1\" class=\"dataframe\">\n",
       "  <thead>\n",
       "    <tr style=\"text-align: right;\">\n",
       "      <th></th>\n",
       "      <th>splits</th>\n",
       "      <th>Count</th>\n",
       "      <th>Percentage</th>\n",
       "    </tr>\n",
       "  </thead>\n",
       "  <tbody>\n",
       "    <tr>\n",
       "      <th>0</th>\n",
       "      <td>TEST</td>\n",
       "      <td>28467</td>\n",
       "      <td>9.995190</td>\n",
       "    </tr>\n",
       "    <tr>\n",
       "      <th>1</th>\n",
       "      <td>TRAIN</td>\n",
       "      <td>228089</td>\n",
       "      <td>80.085461</td>\n",
       "    </tr>\n",
       "    <tr>\n",
       "      <th>2</th>\n",
       "      <td>VALIDATE</td>\n",
       "      <td>28251</td>\n",
       "      <td>9.919349</td>\n",
       "    </tr>\n",
       "  </tbody>\n",
       "</table>\n",
       "</div>"
      ],
      "text/plain": [
       "     splits   Count  Percentage\n",
       "0      TEST   28467    9.995190\n",
       "1     TRAIN  228089   80.085461\n",
       "2  VALIDATE   28251    9.919349"
      ]
     },
     "execution_count": 21,
     "metadata": {},
     "output_type": "execute_result"
    }
   ],
   "source": [
    "query = f\"\"\"\n",
    "SELECT splits, count(*) as Count, 100*count(*) / (sum(count(*)) OVER()) as Percentage\n",
    "FROM `{BQ_PROJECT}.{BQ_DATASET}.{BQ_TABLE}_prepped`\n",
    "GROUP BY splits\n",
    "\"\"\"\n",
    "bq.query(query = query).to_dataframe()"
   ]
  },
  {
   "cell_type": "code",
   "execution_count": 22,
   "id": "d54f5c26-3720-40e5-8b26-394c82c6e8b0",
   "metadata": {
    "tags": []
   },
   "outputs": [],
   "source": [
    "query = f\"\"\"\n",
    "SELECT * \n",
    "FROM `{BQ_PROJECT}.{BQ_DATASET}.{BQ_TABLE}_prepped`\n",
    "LIMIT 5\n",
    "\"\"\"\n",
    "data = bq.query(query = query).to_dataframe()"
   ]
  },
  {
   "cell_type": "code",
   "execution_count": 23,
   "id": "19a35f96-c537-466d-be47-df220e597ee6",
   "metadata": {
    "tags": []
   },
   "outputs": [
    {
     "data": {
      "text/html": [
       "<div>\n",
       "<style scoped>\n",
       "    .dataframe tbody tr th:only-of-type {\n",
       "        vertical-align: middle;\n",
       "    }\n",
       "\n",
       "    .dataframe tbody tr th {\n",
       "        vertical-align: top;\n",
       "    }\n",
       "\n",
       "    .dataframe thead th {\n",
       "        text-align: right;\n",
       "    }\n",
       "</style>\n",
       "<table border=\"1\" class=\"dataframe\">\n",
       "  <thead>\n",
       "    <tr style=\"text-align: right;\">\n",
       "      <th></th>\n",
       "      <th>Time</th>\n",
       "      <th>V1</th>\n",
       "      <th>V2</th>\n",
       "      <th>V3</th>\n",
       "      <th>V4</th>\n",
       "      <th>V5</th>\n",
       "      <th>V6</th>\n",
       "      <th>V7</th>\n",
       "      <th>V8</th>\n",
       "      <th>V9</th>\n",
       "      <th>...</th>\n",
       "      <th>V23</th>\n",
       "      <th>V24</th>\n",
       "      <th>V25</th>\n",
       "      <th>V26</th>\n",
       "      <th>V27</th>\n",
       "      <th>V28</th>\n",
       "      <th>Amount</th>\n",
       "      <th>Class</th>\n",
       "      <th>transaction_id</th>\n",
       "      <th>splits</th>\n",
       "    </tr>\n",
       "  </thead>\n",
       "  <tbody>\n",
       "    <tr>\n",
       "      <th>0</th>\n",
       "      <td>73378</td>\n",
       "      <td>1.267971</td>\n",
       "      <td>-0.071333</td>\n",
       "      <td>0.008482</td>\n",
       "      <td>-0.392620</td>\n",
       "      <td>-0.027840</td>\n",
       "      <td>-0.015306</td>\n",
       "      <td>-0.182631</td>\n",
       "      <td>0.109003</td>\n",
       "      <td>0.065205</td>\n",
       "      <td>...</td>\n",
       "      <td>0.051971</td>\n",
       "      <td>-0.627543</td>\n",
       "      <td>0.144160</td>\n",
       "      <td>0.903631</td>\n",
       "      <td>-0.078328</td>\n",
       "      <td>-0.017881</td>\n",
       "      <td>0.0</td>\n",
       "      <td>0</td>\n",
       "      <td>7f272212-f1dc-4a6c-bad6-c325c2af4140</td>\n",
       "      <td>TEST</td>\n",
       "    </tr>\n",
       "    <tr>\n",
       "      <th>1</th>\n",
       "      <td>36686</td>\n",
       "      <td>-1.116637</td>\n",
       "      <td>0.766187</td>\n",
       "      <td>3.219085</td>\n",
       "      <td>1.051747</td>\n",
       "      <td>-0.047797</td>\n",
       "      <td>0.510289</td>\n",
       "      <td>0.417527</td>\n",
       "      <td>0.228175</td>\n",
       "      <td>-0.028570</td>\n",
       "      <td>...</td>\n",
       "      <td>-0.501597</td>\n",
       "      <td>0.543240</td>\n",
       "      <td>0.625938</td>\n",
       "      <td>-0.098797</td>\n",
       "      <td>-0.272474</td>\n",
       "      <td>-0.177326</td>\n",
       "      <td>0.0</td>\n",
       "      <td>0</td>\n",
       "      <td>26ec0caa-cede-486e-b0a4-aee6f4ee1fcf</td>\n",
       "      <td>TEST</td>\n",
       "    </tr>\n",
       "    <tr>\n",
       "      <th>2</th>\n",
       "      <td>80210</td>\n",
       "      <td>1.106933</td>\n",
       "      <td>0.208589</td>\n",
       "      <td>1.411978</td>\n",
       "      <td>2.514973</td>\n",
       "      <td>-0.564985</td>\n",
       "      <td>0.670207</td>\n",
       "      <td>-0.659376</td>\n",
       "      <td>0.326511</td>\n",
       "      <td>-0.145195</td>\n",
       "      <td>...</td>\n",
       "      <td>-0.009164</td>\n",
       "      <td>0.002618</td>\n",
       "      <td>0.316512</td>\n",
       "      <td>-0.040788</td>\n",
       "      <td>0.039501</td>\n",
       "      <td>0.022443</td>\n",
       "      <td>0.0</td>\n",
       "      <td>0</td>\n",
       "      <td>63b36024-7e35-403f-974a-cfc3a22ba40f</td>\n",
       "      <td>TEST</td>\n",
       "    </tr>\n",
       "    <tr>\n",
       "      <th>3</th>\n",
       "      <td>67511</td>\n",
       "      <td>-1.585593</td>\n",
       "      <td>1.084266</td>\n",
       "      <td>-0.181189</td>\n",
       "      <td>-0.375810</td>\n",
       "      <td>0.143916</td>\n",
       "      <td>-0.775504</td>\n",
       "      <td>-0.084983</td>\n",
       "      <td>0.913627</td>\n",
       "      <td>-0.070178</td>\n",
       "      <td>...</td>\n",
       "      <td>-0.163398</td>\n",
       "      <td>-0.239701</td>\n",
       "      <td>-0.368140</td>\n",
       "      <td>0.354910</td>\n",
       "      <td>0.300076</td>\n",
       "      <td>0.041391</td>\n",
       "      <td>0.0</td>\n",
       "      <td>0</td>\n",
       "      <td>d43217d5-ecaa-44d5-983f-c00e9bb3ce4e</td>\n",
       "      <td>TEST</td>\n",
       "    </tr>\n",
       "    <tr>\n",
       "      <th>4</th>\n",
       "      <td>130876</td>\n",
       "      <td>0.000664</td>\n",
       "      <td>1.480795</td>\n",
       "      <td>1.247668</td>\n",
       "      <td>4.298910</td>\n",
       "      <td>0.443660</td>\n",
       "      <td>2.511772</td>\n",
       "      <td>-1.312127</td>\n",
       "      <td>-2.199241</td>\n",
       "      <td>-2.065188</td>\n",
       "      <td>...</td>\n",
       "      <td>-0.146442</td>\n",
       "      <td>-1.522810</td>\n",
       "      <td>0.965808</td>\n",
       "      <td>0.230626</td>\n",
       "      <td>0.065651</td>\n",
       "      <td>0.177569</td>\n",
       "      <td>0.0</td>\n",
       "      <td>0</td>\n",
       "      <td>e11f652f-ba02-4620-b730-efbfde6ca2a2</td>\n",
       "      <td>TEST</td>\n",
       "    </tr>\n",
       "  </tbody>\n",
       "</table>\n",
       "<p>5 rows × 33 columns</p>\n",
       "</div>"
      ],
      "text/plain": [
       "     Time        V1        V2        V3        V4        V5        V6  \\\n",
       "0   73378  1.267971 -0.071333  0.008482 -0.392620 -0.027840 -0.015306   \n",
       "1   36686 -1.116637  0.766187  3.219085  1.051747 -0.047797  0.510289   \n",
       "2   80210  1.106933  0.208589  1.411978  2.514973 -0.564985  0.670207   \n",
       "3   67511 -1.585593  1.084266 -0.181189 -0.375810  0.143916 -0.775504   \n",
       "4  130876  0.000664  1.480795  1.247668  4.298910  0.443660  2.511772   \n",
       "\n",
       "         V7        V8        V9  ...       V23       V24       V25       V26  \\\n",
       "0 -0.182631  0.109003  0.065205  ...  0.051971 -0.627543  0.144160  0.903631   \n",
       "1  0.417527  0.228175 -0.028570  ... -0.501597  0.543240  0.625938 -0.098797   \n",
       "2 -0.659376  0.326511 -0.145195  ... -0.009164  0.002618  0.316512 -0.040788   \n",
       "3 -0.084983  0.913627 -0.070178  ... -0.163398 -0.239701 -0.368140  0.354910   \n",
       "4 -1.312127 -2.199241 -2.065188  ... -0.146442 -1.522810  0.965808  0.230626   \n",
       "\n",
       "        V27       V28  Amount  Class                        transaction_id  \\\n",
       "0 -0.078328 -0.017881     0.0      0  7f272212-f1dc-4a6c-bad6-c325c2af4140   \n",
       "1 -0.272474 -0.177326     0.0      0  26ec0caa-cede-486e-b0a4-aee6f4ee1fcf   \n",
       "2  0.039501  0.022443     0.0      0  63b36024-7e35-403f-974a-cfc3a22ba40f   \n",
       "3  0.300076  0.041391     0.0      0  d43217d5-ecaa-44d5-983f-c00e9bb3ce4e   \n",
       "4  0.065651  0.177569     0.0      0  e11f652f-ba02-4620-b730-efbfde6ca2a2   \n",
       "\n",
       "   splits  \n",
       "0    TEST  \n",
       "1    TEST  \n",
       "2    TEST  \n",
       "3    TEST  \n",
       "4    TEST  \n",
       "\n",
       "[5 rows x 33 columns]"
      ]
     },
     "execution_count": 23,
     "metadata": {},
     "output_type": "execute_result"
    }
   ],
   "source": [
    "data.head()\n"
   ]
  },
  {
   "cell_type": "code",
   "execution_count": null,
   "id": "a3f3ff9c-9864-4cb0-88d9-5cbeeb8d72b7",
   "metadata": {},
   "outputs": [],
   "source": []
  }
 ],
 "metadata": {
  "environment": {
   "kernel": "conda-root-py",
   "name": "workbench-notebooks.m115",
   "type": "gcloud",
   "uri": "gcr.io/deeplearning-platform-release/workbench-notebooks:m115"
  },
  "kernelspec": {
   "display_name": "Python 3 (ipykernel) (Local)",
   "language": "python",
   "name": "conda-root-py"
  },
  "language_info": {
   "codemirror_mode": {
    "name": "ipython",
    "version": 3
   },
   "file_extension": ".py",
   "mimetype": "text/x-python",
   "name": "python",
   "nbconvert_exporter": "python",
   "pygments_lexer": "ipython3",
   "version": "3.10.13"
  }
 },
 "nbformat": 4,
 "nbformat_minor": 5
}
