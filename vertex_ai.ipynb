{
 "cells": [
  {
   "cell_type": "code",
   "execution_count": 1,
   "id": "900d2a9d-cc52-4209-b1cf-106226224cbc",
   "metadata": {
    "tags": []
   },
   "outputs": [
    {
     "data": {
      "text/plain": [
       "'molten-unison-414815'"
      ]
     },
     "execution_count": 1,
     "metadata": {},
     "output_type": "execute_result"
    }
   ],
   "source": [
    "project = !gcloud config get-value project\n",
    "PROJECT_ID = project[0]\n",
    "PROJECT_ID\n"
   ]
  },
  {
   "cell_type": "code",
   "execution_count": 2,
   "id": "145d613a-0358-4079-ac5e-b4a272203ec1",
   "metadata": {
    "tags": []
   },
   "outputs": [],
   "source": [
    "REGION = 'us-central1'\n",
    "DATANAME = 'fraud'\n",
    "NOTEBOOK = '02c'\n",
    "\n",
    "# Resources\n",
    "DEPLOY_COMPUTE = 'n1-standard-2'\n",
    "\n",
    "# Model Training\n",
    "VAR_TARGET = 'Class'\n",
    "VAR_OMIT = 'transaction_id' # add more variables to the string with space delimiters"
   ]
  },
  {
   "cell_type": "code",
   "execution_count": 3,
   "id": "3c96ba43-b85b-4fb3-ad5b-24f85aa48869",
   "metadata": {
    "tags": []
   },
   "outputs": [],
   "source": [
    "#!pip install -U google-cloud-pipeline-components -U -q\n"
   ]
  },
  {
   "cell_type": "code",
   "execution_count": 4,
   "id": "a0e0f149-e4d6-4774-a5b1-4f16fe0406a5",
   "metadata": {
    "tags": []
   },
   "outputs": [
    {
     "name": "stderr",
     "output_type": "stream",
     "text": [
      "/var/tmp/ipykernel_51624/450478126.py:4: DeprecationWarning: The module `kfp.v2` is deprecated and will be removed in a futureversion. Please import directly from the `kfp` namespace, instead of `kfp.v2`.\n",
      "  from kfp.v2 import compiler\n"
     ]
    }
   ],
   "source": [
    "from google.cloud import aiplatform\n",
    "from datetime import datetime\n",
    "import kfp\n",
    "from kfp.v2 import compiler\n",
    "#import kfp.v2.dsl as dsl\n",
    "#import google_cloud_pipeline_components as gcc_aip\n",
    "from google_cloud_pipeline_components.v1.dataset import TabularDatasetCreateOp\n",
    "from google_cloud_pipeline_components.v1.automl.training_job import AutoMLTabularTrainingJobRunOp\n",
    "from google_cloud_pipeline_components.v1.endpoint import EndpointCreateOp, ModelDeployOp\n",
    "\n",
    "from google.cloud import bigquery\n",
    "from google.protobuf import json_format\n",
    "from google.protobuf.struct_pb2 import Value\n",
    "import json\n",
    "import numpy as np"
   ]
  },
  {
   "cell_type": "code",
   "execution_count": 5,
   "id": "433b16fb-0ed9-45c8-9e5c-53b91ebf7d77",
   "metadata": {
    "tags": []
   },
   "outputs": [],
   "source": [
    "aiplatform.init(project=PROJECT_ID, location=REGION)\n",
    "bq = bigquery.Client()"
   ]
  },
  {
   "cell_type": "code",
   "execution_count": 6,
   "id": "7cc4ed9e-daf1-4497-a63d-6b2ce8b4c8dc",
   "metadata": {
    "tags": []
   },
   "outputs": [],
   "source": [
    "TIMESTAMP = datetime.now().strftime(\"%Y%m%d%H%M%S\")\n",
    "BUCKET = PROJECT_ID\n",
    "URI = f\"gs://{BUCKET}/{DATANAME}/models/{NOTEBOOK}\"\n",
    "DIR = f\"temp/{NOTEBOOK}\""
   ]
  },
  {
   "cell_type": "code",
   "execution_count": 7,
   "id": "4995fafa-0ac0-4308-9bbd-f6f4abbd567f",
   "metadata": {
    "tags": []
   },
   "outputs": [
    {
     "data": {
      "text/plain": [
       "'279275268617-compute@developer.gserviceaccount.com'"
      ]
     },
     "execution_count": 7,
     "metadata": {},
     "output_type": "execute_result"
    }
   ],
   "source": [
    "SERVICE_ACCOUNT = !gcloud config list --format='value(core.account)' \n",
    "SERVICE_ACCOUNT = SERVICE_ACCOUNT[0]\n",
    "SERVICE_ACCOUNT"
   ]
  },
  {
   "cell_type": "code",
   "execution_count": 8,
   "id": "2b6add22-620f-495d-94b1-de361a5a614a",
   "metadata": {
    "tags": []
   },
   "outputs": [
    {
     "name": "stdout",
     "output_type": "stream",
     "text": [
      "ROLE\n",
      "roles/editor\n"
     ]
    }
   ],
   "source": [
    "!gcloud projects get-iam-policy $PROJECT_ID --filter=\"bindings.members:$SERVICE_ACCOUNT\" --format='table(bindings.role)' --flatten=\"bindings[].members\"\n"
   ]
  },
  {
   "cell_type": "code",
   "execution_count": 9,
   "id": "f8d8f348-8015-4c25-9b55-25d537f63a51",
   "metadata": {
    "tags": []
   },
   "outputs": [],
   "source": [
    "!rm -rf {DIR}\n",
    "!mkdir -p {DIR}"
   ]
  },
  {
   "cell_type": "code",
   "execution_count": 10,
   "id": "7b35a58d-303a-455e-8ab5-eccd02e81ce7",
   "metadata": {
    "tags": []
   },
   "outputs": [],
   "source": [
    "@kfp.dsl.pipeline(\n",
    "    name = f'kfp-{NOTEBOOK}-{DATANAME}-{TIMESTAMP}',\n",
    "    pipeline_root = URI+'/'+str(TIMESTAMP)+'/kfp/'\n",
    ")\n",
    "def pipeline(\n",
    "    project: str,\n",
    "    dataname: str,\n",
    "    display_name: str,\n",
    "    deploy_machine: str,\n",
    "    bq_source: str,\n",
    "    var_target: str,\n",
    "    var_omit: str,\n",
    "    features: dict,\n",
    "    labels: dict \n",
    "):\n",
    "    \n",
    "    # dataset\n",
    "    dataset = TabularDatasetCreateOp(\n",
    "        project = project,\n",
    "        display_name = display_name,\n",
    "        bq_source = bq_source,\n",
    "        labels = labels\n",
    "    )\n",
    "    \n",
    "    # training\n",
    "    model = AutoMLTabularTrainingJobRunOp(\n",
    "        project = project,\n",
    "        display_name = display_name,\n",
    "        optimization_prediction_type = \"classification\",\n",
    "        optimization_objective = \"maximize-au-prc\",\n",
    "        budget_milli_node_hours = 1000,\n",
    "        disable_early_stopping=False,\n",
    "        column_specs = features,\n",
    "        dataset = dataset.outputs['dataset'],\n",
    "        target_column = var_target,\n",
    "        predefined_split_column_name = 'splits',\n",
    "        labels = labels\n",
    "    )\n",
    "    \n",
    "    # Endpoint: Creation\n",
    "    endpoint = EndpointCreateOp(\n",
    "        project = project,\n",
    "        display_name = display_name,\n",
    "        labels = labels\n",
    "    )\n",
    "    \n",
    "    # Endpoint: Deployment of Model\n",
    "    deployment = ModelDeployOp(\n",
    "        model = model.outputs[\"model\"],\n",
    "        endpoint = endpoint.outputs[\"endpoint\"],\n",
    "        dedicated_resources_min_replica_count = 1,\n",
    "        dedicated_resources_max_replica_count = 1,\n",
    "        traffic_split = {\"0\": 100},\n",
    "        dedicated_resources_machine_type= deploy_machine\n",
    "    )"
   ]
  },
  {
   "cell_type": "code",
   "execution_count": 11,
   "id": "f2af98b5-5454-466c-b95b-75a61fdcafd0",
   "metadata": {
    "tags": []
   },
   "outputs": [],
   "source": [
    "compiler.Compiler().compile(\n",
    "    pipeline_func = pipeline,\n",
    "    package_path = f\"{DIR}/{NOTEBOOK}.json\"\n",
    ")"
   ]
  },
  {
   "cell_type": "code",
   "execution_count": 12,
   "id": "23e1c9fa-c820-4cf5-b8d3-be3750306e5e",
   "metadata": {
    "tags": []
   },
   "outputs": [
    {
     "name": "stdout",
     "output_type": "stream",
     "text": [
      "Copying file://temp/02c/02c.json [Content-Type=application/json]...\n",
      "/ [1 files][ 46.5 KiB/ 46.5 KiB]                                                \n",
      "Operation completed over 1 objects/46.5 KiB.                                     \n"
     ]
    }
   ],
   "source": [
    "!gsutil cp {DIR}/{NOTEBOOK}.json {URI}/{TIMESTAMP}/kfp/"
   ]
  },
  {
   "cell_type": "code",
   "execution_count": 13,
   "id": "f65c1c14-6c4f-46f4-a721-c6b117488ddd",
   "metadata": {
    "tags": []
   },
   "outputs": [],
   "source": [
    "# get feature names\n",
    "query = f\"SELECT * FROM {DATANAME}.INFORMATION_SCHEMA.COLUMNS WHERE TABLE_NAME = '{DATANAME}_prepped'\"\n",
    "schema = bq.query(query).to_dataframe()\n",
    "OMIT = VAR_OMIT.split() + [VAR_TARGET, 'splits']\n",
    "features = schema[~schema.column_name.isin(OMIT)].column_name.tolist()\n",
    "features = dict.fromkeys(features, 'auto')"
   ]
  },
  {
   "cell_type": "code",
   "execution_count": 14,
   "id": "2f57ac39-9b9e-4c18-87ec-e61eb90b7f09",
   "metadata": {
    "tags": []
   },
   "outputs": [],
   "source": [
    "pipeline = aiplatform.PipelineJob(\n",
    "    display_name = f'{NOTEBOOK}_{DATANAME}_{TIMESTAMP}',\n",
    "    template_path = f\"{URI}/{TIMESTAMP}/kfp/{NOTEBOOK}.json\",\n",
    "    parameter_values = {\n",
    "        \"project\" : PROJECT_ID,\n",
    "        \"dataname\" : DATANAME,\n",
    "        \"display_name\" : f'{NOTEBOOK}_{DATANAME}_{TIMESTAMP}',\n",
    "        \"deploy_machine\" : DEPLOY_COMPUTE,\n",
    "        \"bq_source\" : f'bq://{PROJECT_ID}.{DATANAME}.{DATANAME}_prepped',\n",
    "        \"var_target\" : VAR_TARGET,\n",
    "        \"var_omit\" : VAR_OMIT,\n",
    "        \"features\" : features,\n",
    "        \"labels\" : {'notebook': NOTEBOOK}       \n",
    "    },\n",
    "    labels = {'notebook': NOTEBOOK},\n",
    "    enable_caching=False\n",
    ")"
   ]
  },
  {
   "cell_type": "code",
   "execution_count": 15,
   "id": "9c4334bf-1c40-4975-a811-b19b374713b0",
   "metadata": {
    "tags": []
   },
   "outputs": [
    {
     "name": "stdout",
     "output_type": "stream",
     "text": [
      "Creating PipelineJob\n",
      "PipelineJob created. Resource name: projects/279275268617/locations/us-central1/pipelineJobs/kfp-02c-fraud-20240220174303-20240220174414\n",
      "To use this PipelineJob in another session:\n",
      "pipeline_job = aiplatform.PipelineJob.get('projects/279275268617/locations/us-central1/pipelineJobs/kfp-02c-fraud-20240220174303-20240220174414')\n",
      "View Pipeline Job:\n",
      "https://console.cloud.google.com/vertex-ai/locations/us-central1/pipelines/runs/kfp-02c-fraud-20240220174303-20240220174414?project=279275268617\n",
      "PipelineJob projects/279275268617/locations/us-central1/pipelineJobs/kfp-02c-fraud-20240220174303-20240220174414 current state:\n",
      "PipelineState.PIPELINE_STATE_RUNNING\n",
      "PipelineJob projects/279275268617/locations/us-central1/pipelineJobs/kfp-02c-fraud-20240220174303-20240220174414 current state:\n",
      "PipelineState.PIPELINE_STATE_RUNNING\n",
      "PipelineJob projects/279275268617/locations/us-central1/pipelineJobs/kfp-02c-fraud-20240220174303-20240220174414 current state:\n",
      "PipelineState.PIPELINE_STATE_RUNNING\n",
      "PipelineJob projects/279275268617/locations/us-central1/pipelineJobs/kfp-02c-fraud-20240220174303-20240220174414 current state:\n",
      "PipelineState.PIPELINE_STATE_RUNNING\n",
      "PipelineJob projects/279275268617/locations/us-central1/pipelineJobs/kfp-02c-fraud-20240220174303-20240220174414 current state:\n",
      "PipelineState.PIPELINE_STATE_RUNNING\n",
      "PipelineJob projects/279275268617/locations/us-central1/pipelineJobs/kfp-02c-fraud-20240220174303-20240220174414 current state:\n",
      "PipelineState.PIPELINE_STATE_RUNNING\n",
      "PipelineJob projects/279275268617/locations/us-central1/pipelineJobs/kfp-02c-fraud-20240220174303-20240220174414 current state:\n",
      "PipelineState.PIPELINE_STATE_RUNNING\n",
      "PipelineJob projects/279275268617/locations/us-central1/pipelineJobs/kfp-02c-fraud-20240220174303-20240220174414 current state:\n",
      "PipelineState.PIPELINE_STATE_RUNNING\n",
      "PipelineJob projects/279275268617/locations/us-central1/pipelineJobs/kfp-02c-fraud-20240220174303-20240220174414 current state:\n",
      "PipelineState.PIPELINE_STATE_RUNNING\n",
      "PipelineJob projects/279275268617/locations/us-central1/pipelineJobs/kfp-02c-fraud-20240220174303-20240220174414 current state:\n",
      "PipelineState.PIPELINE_STATE_RUNNING\n",
      "PipelineJob projects/279275268617/locations/us-central1/pipelineJobs/kfp-02c-fraud-20240220174303-20240220174414 current state:\n",
      "PipelineState.PIPELINE_STATE_RUNNING\n",
      "PipelineJob projects/279275268617/locations/us-central1/pipelineJobs/kfp-02c-fraud-20240220174303-20240220174414 current state:\n",
      "PipelineState.PIPELINE_STATE_RUNNING\n",
      "PipelineJob projects/279275268617/locations/us-central1/pipelineJobs/kfp-02c-fraud-20240220174303-20240220174414 current state:\n",
      "PipelineState.PIPELINE_STATE_RUNNING\n",
      "PipelineJob projects/279275268617/locations/us-central1/pipelineJobs/kfp-02c-fraud-20240220174303-20240220174414 current state:\n",
      "PipelineState.PIPELINE_STATE_RUNNING\n",
      "PipelineJob projects/279275268617/locations/us-central1/pipelineJobs/kfp-02c-fraud-20240220174303-20240220174414 current state:\n",
      "PipelineState.PIPELINE_STATE_RUNNING\n",
      "PipelineJob projects/279275268617/locations/us-central1/pipelineJobs/kfp-02c-fraud-20240220174303-20240220174414 current state:\n",
      "PipelineState.PIPELINE_STATE_RUNNING\n",
      "PipelineJob projects/279275268617/locations/us-central1/pipelineJobs/kfp-02c-fraud-20240220174303-20240220174414 current state:\n",
      "PipelineState.PIPELINE_STATE_RUNNING\n",
      "PipelineJob projects/279275268617/locations/us-central1/pipelineJobs/kfp-02c-fraud-20240220174303-20240220174414 current state:\n",
      "PipelineState.PIPELINE_STATE_RUNNING\n",
      "PipelineJob projects/279275268617/locations/us-central1/pipelineJobs/kfp-02c-fraud-20240220174303-20240220174414 current state:\n",
      "PipelineState.PIPELINE_STATE_RUNNING\n",
      "PipelineJob projects/279275268617/locations/us-central1/pipelineJobs/kfp-02c-fraud-20240220174303-20240220174414 current state:\n",
      "PipelineState.PIPELINE_STATE_RUNNING\n",
      "PipelineJob projects/279275268617/locations/us-central1/pipelineJobs/kfp-02c-fraud-20240220174303-20240220174414 current state:\n",
      "PipelineState.PIPELINE_STATE_RUNNING\n",
      "PipelineJob projects/279275268617/locations/us-central1/pipelineJobs/kfp-02c-fraud-20240220174303-20240220174414 current state:\n",
      "PipelineState.PIPELINE_STATE_RUNNING\n",
      "PipelineJob projects/279275268617/locations/us-central1/pipelineJobs/kfp-02c-fraud-20240220174303-20240220174414 current state:\n",
      "PipelineState.PIPELINE_STATE_RUNNING\n",
      "PipelineJob projects/279275268617/locations/us-central1/pipelineJobs/kfp-02c-fraud-20240220174303-20240220174414 current state:\n",
      "PipelineState.PIPELINE_STATE_RUNNING\n",
      "PipelineJob projects/279275268617/locations/us-central1/pipelineJobs/kfp-02c-fraud-20240220174303-20240220174414 current state:\n",
      "PipelineState.PIPELINE_STATE_RUNNING\n",
      "PipelineJob projects/279275268617/locations/us-central1/pipelineJobs/kfp-02c-fraud-20240220174303-20240220174414 current state:\n",
      "PipelineState.PIPELINE_STATE_RUNNING\n",
      "PipelineJob projects/279275268617/locations/us-central1/pipelineJobs/kfp-02c-fraud-20240220174303-20240220174414 current state:\n",
      "PipelineState.PIPELINE_STATE_RUNNING\n",
      "PipelineJob projects/279275268617/locations/us-central1/pipelineJobs/kfp-02c-fraud-20240220174303-20240220174414 current state:\n",
      "PipelineState.PIPELINE_STATE_RUNNING\n",
      "PipelineJob projects/279275268617/locations/us-central1/pipelineJobs/kfp-02c-fraud-20240220174303-20240220174414 current state:\n",
      "PipelineState.PIPELINE_STATE_RUNNING\n",
      "PipelineJob projects/279275268617/locations/us-central1/pipelineJobs/kfp-02c-fraud-20240220174303-20240220174414 current state:\n",
      "PipelineState.PIPELINE_STATE_RUNNING\n",
      "PipelineJob projects/279275268617/locations/us-central1/pipelineJobs/kfp-02c-fraud-20240220174303-20240220174414 current state:\n",
      "PipelineState.PIPELINE_STATE_RUNNING\n",
      "PipelineJob projects/279275268617/locations/us-central1/pipelineJobs/kfp-02c-fraud-20240220174303-20240220174414 current state:\n",
      "PipelineState.PIPELINE_STATE_RUNNING\n",
      "PipelineJob projects/279275268617/locations/us-central1/pipelineJobs/kfp-02c-fraud-20240220174303-20240220174414 current state:\n",
      "PipelineState.PIPELINE_STATE_RUNNING\n",
      "PipelineJob projects/279275268617/locations/us-central1/pipelineJobs/kfp-02c-fraud-20240220174303-20240220174414 current state:\n",
      "PipelineState.PIPELINE_STATE_RUNNING\n",
      "PipelineJob run completed. Resource name: projects/279275268617/locations/us-central1/pipelineJobs/kfp-02c-fraud-20240220174303-20240220174414\n"
     ]
    }
   ],
   "source": [
    "response = pipeline.run(\n",
    "    service_account = SERVICE_ACCOUNT\n",
    ")"
   ]
  },
  {
   "cell_type": "code",
   "execution_count": 16,
   "id": "8b50511b-0af8-42df-bb64-759a30fce80c",
   "metadata": {
    "tags": []
   },
   "outputs": [
    {
     "name": "stdout",
     "output_type": "stream",
     "text": [
      "Review the Pipeline as it runs here:\n",
      "https://console.cloud.google.com/vertex-ai/locations/us-central1/pipelines/runs/kfp-02c-fraud-20240220174303-20240220174414?project=molten-unison-414815\n"
     ]
    }
   ],
   "source": [
    "print(f\"Review the Pipeline as it runs here:\\nhttps://console.cloud.google.com/vertex-ai/locations/{REGION}/pipelines/runs/{pipeline.resource_name.split('/')[-1]}?project={PROJECT_ID}\")\n"
   ]
  },
  {
   "cell_type": "code",
   "execution_count": 17,
   "id": "d269d78c-14f7-49f8-8355-e829563490d6",
   "metadata": {
    "tags": []
   },
   "outputs": [
    {
     "data": {
      "text/html": [
       "<div>\n",
       "<style scoped>\n",
       "    .dataframe tbody tr th:only-of-type {\n",
       "        vertical-align: middle;\n",
       "    }\n",
       "\n",
       "    .dataframe tbody tr th {\n",
       "        vertical-align: top;\n",
       "    }\n",
       "\n",
       "    .dataframe thead th {\n",
       "        text-align: right;\n",
       "    }\n",
       "</style>\n",
       "<table border=\"1\" class=\"dataframe\">\n",
       "  <thead>\n",
       "    <tr style=\"text-align: right;\">\n",
       "      <th></th>\n",
       "      <th>pipeline_name</th>\n",
       "      <th>run_name</th>\n",
       "      <th>param.input:bq_source</th>\n",
       "      <th>param.input:labels</th>\n",
       "      <th>param.input:features</th>\n",
       "      <th>param.input:var_target</th>\n",
       "      <th>param.input:dataname</th>\n",
       "      <th>param.vmlmd_lineage_integration</th>\n",
       "      <th>param.input:deploy_machine</th>\n",
       "      <th>param.input:display_name</th>\n",
       "      <th>param.input:project</th>\n",
       "      <th>param.input:var_omit</th>\n",
       "    </tr>\n",
       "  </thead>\n",
       "  <tbody>\n",
       "    <tr>\n",
       "      <th>0</th>\n",
       "      <td>kfp-02c-fraud-20240220174303</td>\n",
       "      <td>kfp-02c-fraud-20240220174303-20240220174414</td>\n",
       "      <td>bq://molten-unison-414815.fraud.fraud_prepped</td>\n",
       "      <td>{'notebook': '02c'}</td>\n",
       "      <td>{'V23': 'auto', 'V21': 'auto', 'Amount': 'auto...</td>\n",
       "      <td>Class</td>\n",
       "      <td>fraud</td>\n",
       "      <td>{'pipeline_run_component': {'parent_task_names...</td>\n",
       "      <td>n1-standard-2</td>\n",
       "      <td>02c_fraud_20240220174303</td>\n",
       "      <td>molten-unison-414815</td>\n",
       "      <td>transaction_id</td>\n",
       "    </tr>\n",
       "  </tbody>\n",
       "</table>\n",
       "</div>"
      ],
      "text/plain": [
       "                  pipeline_name                                     run_name  \\\n",
       "0  kfp-02c-fraud-20240220174303  kfp-02c-fraud-20240220174303-20240220174414   \n",
       "\n",
       "                           param.input:bq_source   param.input:labels  \\\n",
       "0  bq://molten-unison-414815.fraud.fraud_prepped  {'notebook': '02c'}   \n",
       "\n",
       "                                param.input:features param.input:var_target  \\\n",
       "0  {'V23': 'auto', 'V21': 'auto', 'Amount': 'auto...                  Class   \n",
       "\n",
       "  param.input:dataname                    param.vmlmd_lineage_integration  \\\n",
       "0                fraud  {'pipeline_run_component': {'parent_task_names...   \n",
       "\n",
       "  param.input:deploy_machine  param.input:display_name   param.input:project  \\\n",
       "0              n1-standard-2  02c_fraud_20240220174303  molten-unison-414815   \n",
       "\n",
       "  param.input:var_omit  \n",
       "0       transaction_id  "
      ]
     },
     "execution_count": 17,
     "metadata": {},
     "output_type": "execute_result"
    }
   ],
   "source": [
    "aiplatform.get_pipeline_df(pipeline = f'kfp-{NOTEBOOK}-{DATANAME}-{TIMESTAMP}')\n"
   ]
  },
  {
   "cell_type": "code",
   "execution_count": 18,
   "id": "e5600b51-a455-420c-9064-57ffad7dfae1",
   "metadata": {
    "tags": []
   },
   "outputs": [],
   "source": [
    "models = aiplatform.Model.list(filter=f'labels.notebook={NOTEBOOK}')\n"
   ]
  },
  {
   "cell_type": "code",
   "execution_count": 19,
   "id": "a28cebde-95e2-4b0b-a032-d1cecef924f9",
   "metadata": {
    "tags": []
   },
   "outputs": [
    {
     "data": {
      "text/plain": [
       "'projects/279275268617/locations/us-central1/models/2514624874165567488'"
      ]
     },
     "execution_count": 19,
     "metadata": {},
     "output_type": "execute_result"
    }
   ],
   "source": [
    "model = models[0]\n",
    "model.resource_name"
   ]
  },
  {
   "cell_type": "code",
   "execution_count": 20,
   "id": "6012a104-373b-4824-97db-3402eb32c4d8",
   "metadata": {
    "tags": []
   },
   "outputs": [],
   "source": [
    "evaluation = model.get_model_evaluation().to_dict() # get first evaluation"
   ]
  },
  {
   "cell_type": "code",
   "execution_count": 21,
   "id": "0a238e11-7672-4848-a105-a9f013ccb6e2",
   "metadata": {
    "tags": []
   },
   "outputs": [
    {
     "data": {
      "text/plain": [
       "dict_keys(['name', 'metricsSchemaUri', 'metrics', 'createTime', 'sliceDimensions', 'modelExplanation'])"
      ]
     },
     "execution_count": 21,
     "metadata": {},
     "output_type": "execute_result"
    }
   ],
   "source": [
    "evaluation.keys()"
   ]
  },
  {
   "cell_type": "code",
   "execution_count": 22,
   "id": "a13da215-e2a2-46e0-b3e7-068c0131dc59",
   "metadata": {
    "tags": []
   },
   "outputs": [
    {
     "data": {
      "text/plain": [
       "dict_keys(['auPrc', 'auRoc', 'logLoss', 'confusionMatrix', 'confidenceMetrics'])"
      ]
     },
     "execution_count": 22,
     "metadata": {},
     "output_type": "execute_result"
    }
   ],
   "source": [
    "evaluation['metrics'].keys()"
   ]
  },
  {
   "cell_type": "code",
   "execution_count": 23,
   "id": "f6c750b8-40ac-44ff-9e0a-a69565318f7f",
   "metadata": {
    "tags": []
   },
   "outputs": [
    {
     "data": {
      "text/plain": [
       "0.9998603"
      ]
     },
     "execution_count": 23,
     "metadata": {},
     "output_type": "execute_result"
    }
   ],
   "source": [
    "evaluation['metrics']['auPrc']"
   ]
  },
  {
   "cell_type": "code",
   "execution_count": 24,
   "id": "344d5d08-fd28-407d-9d85-f712a860dcf1",
   "metadata": {
    "tags": []
   },
   "outputs": [
    {
     "data": {
      "text/plain": [
       "{'falseNegativeCount': '4',\n",
       " 'recallAt1': 0.9996136,\n",
       " 'falsePositiveRateAt1': 0.00038641234,\n",
       " 'truePositiveCount': '28463',\n",
       " 'recall': 0.9998595,\n",
       " 'trueNegativeCount': '28342',\n",
       " 'confidenceThreshold': 0.01,\n",
       " 'falsePositiveRate': 0.0043910495,\n",
       " 'precisionAt1': 0.9996136,\n",
       " 'confusionMatrix': {'rows': [[28415.0, 1.0, 0.0],\n",
       "   [10.0, 41.0, 0.0],\n",
       "   [0.0, 0.0, 0.0]],\n",
       "  'annotationSpecs': [{'displayName': '0', 'id': '0'},\n",
       "   {'displayName': '1', 'id': '1'},\n",
       "   {'displayName': 'DROPPED', 'id': 'DROPPED'}]},\n",
       " 'precision': 0.9956275,\n",
       " 'f1ScoreAt1': 0.9996136,\n",
       " 'f1ScoreMacro': 0.7592993,\n",
       " 'f1Score': 0.997739,\n",
       " 'falsePositiveCount': '125',\n",
       " 'f1ScoreMicro': 0.997739}"
      ]
     },
     "execution_count": 24,
     "metadata": {},
     "output_type": "execute_result"
    }
   ],
   "source": [
    "evaluation['metrics']['confidenceMetrics'][3]"
   ]
  },
  {
   "cell_type": "code",
   "execution_count": 25,
   "id": "6a41fdbc-5c68-43b1-a866-062604140393",
   "metadata": {
    "tags": []
   },
   "outputs": [
    {
     "name": "stdout",
     "output_type": "stream",
     "text": [
      "Review this model in the console:\n",
      "https://console.cloud.google.com/vertex-ai/locations/us-central1/models/2514624874165567488/versions/1/evaluations/4347793670839253050?project=molten-unison-414815\n"
     ]
    }
   ],
   "source": [
    "print(f\"Review this model in the console:\\nhttps://console.cloud.google.com/vertex-ai/locations/{REGION}/models/{model.name}/versions/{model.version_id}/evaluations/{evaluation['name'].split('/')[-1]}?project={PROJECT_ID}\")\n"
   ]
  },
  {
   "cell_type": "code",
   "execution_count": 26,
   "id": "da71c3b5-eb49-414f-bf31-05242de24018",
   "metadata": {
    "tags": []
   },
   "outputs": [
    {
     "data": {
      "text/plain": [
       "0.9998603"
      ]
     },
     "execution_count": 26,
     "metadata": {},
     "output_type": "execute_result"
    }
   ],
   "source": [
    "evaluation['metrics']['auPrc']"
   ]
  },
  {
   "cell_type": "code",
   "execution_count": 27,
   "id": "db9556e4-541f-4d6a-9c19-664790069331",
   "metadata": {
    "tags": []
   },
   "outputs": [
    {
     "name": "stdout",
     "output_type": "stream",
     "text": [
      "True Label =  0  has Predicted labels =  [28415.0, 1.0, 0.0]\n",
      "True Label =  1  has Predicted labels =  [10.0, 41.0, 0.0]\n",
      "True Label =  DROPPED  has Predicted labels =  [0.0, 0.0, 0.0]\n"
     ]
    }
   ],
   "source": [
    "for i in range(len(evaluation['metrics']['confusionMatrix']['annotationSpecs'])):\n",
    "    print('True Label = ', evaluation['metrics']['confusionMatrix']['annotationSpecs'][i]['displayName'], ' has Predicted labels = ', evaluation['metrics']['confusionMatrix']['rows'][i])"
   ]
  },
  {
   "cell_type": "code",
   "execution_count": 28,
   "id": "4f23f632-59ba-4a46-b8bb-6992e8484c16",
   "metadata": {
    "tags": []
   },
   "outputs": [],
   "source": [
    "model_client = aiplatform.gapic.ModelServiceClient(\n",
    "    client_options = {\n",
    "        'api_endpoint' : f'{REGION}-aiplatform.googleapis.com'\n",
    "    }\n",
    ")"
   ]
  },
  {
   "cell_type": "code",
   "execution_count": 29,
   "id": "0745bc9b-5db8-4ffc-ab84-2716b7fc405f",
   "metadata": {
    "tags": []
   },
   "outputs": [],
   "source": [
    "slices = model_client.list_model_evaluation_slices(parent = evaluation['name'])\n"
   ]
  },
  {
   "cell_type": "code",
   "execution_count": 30,
   "id": "13015e92-6142-44f6-910d-7f9d8d74454b",
   "metadata": {
    "tags": []
   },
   "outputs": [
    {
     "name": "stdout",
     "output_type": "stream",
     "text": [
      "Label =  0 has auPrc =  0.9998934\n",
      "Label =  1 has auPrc =  0.9018287\n"
     ]
    }
   ],
   "source": [
    "for slice in slices:\n",
    "    print('Label = ', slice.slice_.value, 'has auPrc = ', slice.metrics['auPrc'])"
   ]
  },
  {
   "cell_type": "code",
   "execution_count": 31,
   "id": "f92983a7-2661-4ccb-b7a1-04ac3ab6537a",
   "metadata": {
    "tags": []
   },
   "outputs": [],
   "source": [
    "pred = bq.query(\n",
    "    query = f\"\"\"\n",
    "        SELECT * EXCEPT({VAR_TARGET}, splits, {VAR_OMIT})\n",
    "        FROM {DATANAME}.{DATANAME}_prepped\n",
    "        WHERE splits='TEST'\n",
    "        LIMIT 10\n",
    "    \"\"\"\n",
    ").to_dataframe()"
   ]
  },
  {
   "cell_type": "code",
   "execution_count": 32,
   "id": "5ca7bfac-8534-4705-9eb8-1085891c83ad",
   "metadata": {
    "tags": []
   },
   "outputs": [
    {
     "data": {
      "text/html": [
       "<div>\n",
       "<style scoped>\n",
       "    .dataframe tbody tr th:only-of-type {\n",
       "        vertical-align: middle;\n",
       "    }\n",
       "\n",
       "    .dataframe tbody tr th {\n",
       "        vertical-align: top;\n",
       "    }\n",
       "\n",
       "    .dataframe thead th {\n",
       "        text-align: right;\n",
       "    }\n",
       "</style>\n",
       "<table border=\"1\" class=\"dataframe\">\n",
       "  <thead>\n",
       "    <tr style=\"text-align: right;\">\n",
       "      <th></th>\n",
       "      <th>Time</th>\n",
       "      <th>V1</th>\n",
       "      <th>V2</th>\n",
       "      <th>V3</th>\n",
       "      <th>V4</th>\n",
       "      <th>V5</th>\n",
       "      <th>V6</th>\n",
       "      <th>V7</th>\n",
       "      <th>V8</th>\n",
       "      <th>V9</th>\n",
       "      <th>...</th>\n",
       "      <th>V20</th>\n",
       "      <th>V21</th>\n",
       "      <th>V22</th>\n",
       "      <th>V23</th>\n",
       "      <th>V24</th>\n",
       "      <th>V25</th>\n",
       "      <th>V26</th>\n",
       "      <th>V27</th>\n",
       "      <th>V28</th>\n",
       "      <th>Amount</th>\n",
       "    </tr>\n",
       "  </thead>\n",
       "  <tbody>\n",
       "    <tr>\n",
       "      <th>0</th>\n",
       "      <td>73378</td>\n",
       "      <td>1.267971</td>\n",
       "      <td>-0.071333</td>\n",
       "      <td>0.008482</td>\n",
       "      <td>-0.392620</td>\n",
       "      <td>-0.027840</td>\n",
       "      <td>-0.015306</td>\n",
       "      <td>-0.182631</td>\n",
       "      <td>0.109003</td>\n",
       "      <td>0.065205</td>\n",
       "      <td>...</td>\n",
       "      <td>-0.108434</td>\n",
       "      <td>-0.204560</td>\n",
       "      <td>-0.603748</td>\n",
       "      <td>0.051971</td>\n",
       "      <td>-0.627543</td>\n",
       "      <td>0.144160</td>\n",
       "      <td>0.903631</td>\n",
       "      <td>-0.078328</td>\n",
       "      <td>-0.017881</td>\n",
       "      <td>0.0</td>\n",
       "    </tr>\n",
       "    <tr>\n",
       "      <th>1</th>\n",
       "      <td>36686</td>\n",
       "      <td>-1.116637</td>\n",
       "      <td>0.766187</td>\n",
       "      <td>3.219085</td>\n",
       "      <td>1.051747</td>\n",
       "      <td>-0.047797</td>\n",
       "      <td>0.510289</td>\n",
       "      <td>0.417527</td>\n",
       "      <td>0.228175</td>\n",
       "      <td>-0.028570</td>\n",
       "      <td>...</td>\n",
       "      <td>-0.308429</td>\n",
       "      <td>0.085421</td>\n",
       "      <td>0.488005</td>\n",
       "      <td>-0.501597</td>\n",
       "      <td>0.543240</td>\n",
       "      <td>0.625938</td>\n",
       "      <td>-0.098797</td>\n",
       "      <td>-0.272474</td>\n",
       "      <td>-0.177326</td>\n",
       "      <td>0.0</td>\n",
       "    </tr>\n",
       "    <tr>\n",
       "      <th>2</th>\n",
       "      <td>80210</td>\n",
       "      <td>1.106933</td>\n",
       "      <td>0.208589</td>\n",
       "      <td>1.411978</td>\n",
       "      <td>2.514973</td>\n",
       "      <td>-0.564985</td>\n",
       "      <td>0.670207</td>\n",
       "      <td>-0.659376</td>\n",
       "      <td>0.326511</td>\n",
       "      <td>-0.145195</td>\n",
       "      <td>...</td>\n",
       "      <td>-0.133966</td>\n",
       "      <td>-0.055411</td>\n",
       "      <td>-0.033153</td>\n",
       "      <td>-0.009164</td>\n",
       "      <td>0.002618</td>\n",
       "      <td>0.316512</td>\n",
       "      <td>-0.040788</td>\n",
       "      <td>0.039501</td>\n",
       "      <td>0.022443</td>\n",
       "      <td>0.0</td>\n",
       "    </tr>\n",
       "    <tr>\n",
       "      <th>3</th>\n",
       "      <td>67511</td>\n",
       "      <td>-1.585593</td>\n",
       "      <td>1.084266</td>\n",
       "      <td>-0.181189</td>\n",
       "      <td>-0.375810</td>\n",
       "      <td>0.143916</td>\n",
       "      <td>-0.775504</td>\n",
       "      <td>-0.084983</td>\n",
       "      <td>0.913627</td>\n",
       "      <td>-0.070178</td>\n",
       "      <td>...</td>\n",
       "      <td>-0.245192</td>\n",
       "      <td>0.073028</td>\n",
       "      <td>0.223127</td>\n",
       "      <td>-0.163398</td>\n",
       "      <td>-0.239701</td>\n",
       "      <td>-0.368140</td>\n",
       "      <td>0.354910</td>\n",
       "      <td>0.300076</td>\n",
       "      <td>0.041391</td>\n",
       "      <td>0.0</td>\n",
       "    </tr>\n",
       "  </tbody>\n",
       "</table>\n",
       "<p>4 rows × 30 columns</p>\n",
       "</div>"
      ],
      "text/plain": [
       "    Time        V1        V2        V3        V4        V5        V6  \\\n",
       "0  73378  1.267971 -0.071333  0.008482 -0.392620 -0.027840 -0.015306   \n",
       "1  36686 -1.116637  0.766187  3.219085  1.051747 -0.047797  0.510289   \n",
       "2  80210  1.106933  0.208589  1.411978  2.514973 -0.564985  0.670207   \n",
       "3  67511 -1.585593  1.084266 -0.181189 -0.375810  0.143916 -0.775504   \n",
       "\n",
       "         V7        V8        V9  ...       V20       V21       V22       V23  \\\n",
       "0 -0.182631  0.109003  0.065205  ... -0.108434 -0.204560 -0.603748  0.051971   \n",
       "1  0.417527  0.228175 -0.028570  ... -0.308429  0.085421  0.488005 -0.501597   \n",
       "2 -0.659376  0.326511 -0.145195  ... -0.133966 -0.055411 -0.033153 -0.009164   \n",
       "3 -0.084983  0.913627 -0.070178  ... -0.245192  0.073028  0.223127 -0.163398   \n",
       "\n",
       "        V24       V25       V26       V27       V28  Amount  \n",
       "0 -0.627543  0.144160  0.903631 -0.078328 -0.017881     0.0  \n",
       "1  0.543240  0.625938 -0.098797 -0.272474 -0.177326     0.0  \n",
       "2  0.002618  0.316512 -0.040788  0.039501  0.022443     0.0  \n",
       "3 -0.239701 -0.368140  0.354910  0.300076  0.041391     0.0  \n",
       "\n",
       "[4 rows x 30 columns]"
      ]
     },
     "execution_count": 32,
     "metadata": {},
     "output_type": "execute_result"
    }
   ],
   "source": [
    "pred.head(4)"
   ]
  },
  {
   "cell_type": "code",
   "execution_count": 33,
   "id": "d7361a97-3935-4178-a200-66ceb5027769",
   "metadata": {
    "tags": []
   },
   "outputs": [
    {
     "data": {
      "text/plain": [
       "{'Time': '73378',\n",
       " 'V1': 1.26797105289876,\n",
       " 'V2': -0.0713332661988698,\n",
       " 'V3': 0.008482458695155421,\n",
       " 'V4': -0.39262000048097107,\n",
       " 'V5': -0.0278399146423438,\n",
       " 'V6': -0.015306058654508998,\n",
       " 'V7': -0.18263079164336604,\n",
       " 'V8': 0.10900335113603098,\n",
       " 'V9': 0.0652050570725012,\n",
       " 'V10': -0.058482319672751,\n",
       " 'V11': 1.01930048769987,\n",
       " 'V12': 0.525212498581151,\n",
       " 'V13': -0.41128953011088104,\n",
       " 'V14': 0.553832811686634,\n",
       " 'V15': 0.7037734428758959,\n",
       " 'V16': 0.339737786247733,\n",
       " 'V17': -0.457517927458409,\n",
       " 'V18': -0.332333891216917,\n",
       " 'V19': 0.36143531975172294,\n",
       " 'V20': -0.10843437916062801,\n",
       " 'V21': -0.204560407430768,\n",
       " 'V22': -0.603747633165057,\n",
       " 'V23': 0.0519706252828389,\n",
       " 'V24': -0.627542564476426,\n",
       " 'V25': 0.144160411448769,\n",
       " 'V26': 0.903630574388861,\n",
       " 'V27': -0.0783284922720522,\n",
       " 'V28': -0.0178807425923178,\n",
       " 'Amount': 0.0}"
      ]
     },
     "execution_count": 33,
     "metadata": {},
     "output_type": "execute_result"
    }
   ],
   "source": [
    "pred['Time'] = pred['Time'].astype(str)\n",
    "newobs = pred.to_dict(orient='records')\n",
    "newobs[0]"
   ]
  },
  {
   "cell_type": "code",
   "execution_count": 34,
   "id": "f809d8a0-877d-4b66-a5e1-e9e34ae84ef1",
   "metadata": {
    "tags": []
   },
   "outputs": [],
   "source": [
    "instances = [json_format.ParseDict(newob, Value()) for newob in newobs]\n"
   ]
  },
  {
   "cell_type": "code",
   "execution_count": 35,
   "id": "45804a5f-63e5-47c1-a5e2-3d83eb83ac12",
   "metadata": {
    "tags": []
   },
   "outputs": [
    {
     "data": {
      "text/plain": [
       "[<google.cloud.aiplatform.models.Endpoint object at 0x7f2bcd7deb60> \n",
       " resource name: projects/279275268617/locations/us-central1/endpoints/1180182795905925120]"
      ]
     },
     "execution_count": 35,
     "metadata": {},
     "output_type": "execute_result"
    }
   ],
   "source": [
    "aiplatform.Endpoint.list(filter=f'labels.notebook={NOTEBOOK}')"
   ]
  },
  {
   "cell_type": "code",
   "execution_count": 36,
   "id": "f3d23b21-911e-43c9-93c6-1b221fb59287",
   "metadata": {
    "tags": []
   },
   "outputs": [
    {
     "data": {
      "text/plain": [
       "'02c_fraud_20240220174303'"
      ]
     },
     "execution_count": 36,
     "metadata": {},
     "output_type": "execute_result"
    }
   ],
   "source": [
    "endpoint = aiplatform.Endpoint.list(filter=f'labels.notebook={NOTEBOOK}')[0]\n",
    "endpoint.display_name"
   ]
  },
  {
   "cell_type": "code",
   "execution_count": 37,
   "id": "55622282-77bd-46cd-8ad5-4fb6d0c06e11",
   "metadata": {
    "tags": []
   },
   "outputs": [
    {
     "data": {
      "text/plain": [
       "{'classes': ['0', '1'], 'scores': [0.9999477863311768, 5.220999446464702e-05]}"
      ]
     },
     "execution_count": 37,
     "metadata": {},
     "output_type": "execute_result"
    }
   ],
   "source": [
    "prediction = endpoint.predict(instances = instances) # or instances = newobs\n",
    "prediction.predictions[0]"
   ]
  },
  {
   "cell_type": "code",
   "execution_count": 38,
   "id": "05328ba8-4ba3-4cf5-96ef-e74bebe0d973",
   "metadata": {
    "tags": []
   },
   "outputs": [
    {
     "data": {
      "text/plain": [
       "'0'"
      ]
     },
     "execution_count": 38,
     "metadata": {},
     "output_type": "execute_result"
    }
   ],
   "source": [
    "prediction.predictions[0]['classes'][np.argmax(prediction.predictions[0]['scores'])]\n"
   ]
  },
  {
   "cell_type": "code",
   "execution_count": 39,
   "id": "495caea3-cd75-490a-89bd-0ff5ea74995c",
   "metadata": {
    "tags": []
   },
   "outputs": [],
   "source": [
    "with open(f'{DIR}/request.json','w') as file:\n",
    "    file.write(json.dumps({\"instances\": [newobs[0]]}))"
   ]
  },
  {
   "cell_type": "code",
   "execution_count": 40,
   "id": "fdab4da3-aca0-4f7a-929d-d0581809432b",
   "metadata": {
    "tags": []
   },
   "outputs": [
    {
     "name": "stdout",
     "output_type": "stream",
     "text": [
      "{\n",
      "  \"predictions\": [\n",
      "    {\n",
      "      \"scores\": [\n",
      "        0.99994778633117676,\n",
      "        5.2209987188689411e-05\n",
      "      ],\n",
      "      \"classes\": [\n",
      "        \"0\",\n",
      "        \"1\"\n",
      "      ]\n",
      "    }\n",
      "  ],\n",
      "  \"deployedModelId\": \"6973531552890224640\",\n",
      "  \"model\": \"projects/279275268617/locations/us-central1/models/2514624874165567488\",\n",
      "  \"modelDisplayName\": \"02c_fraud_20240220174303\",\n",
      "  \"modelVersionId\": \"1\"\n",
      "}\n"
     ]
    }
   ],
   "source": [
    "!curl -X POST \\\n",
    "-H \"Authorization: Bearer \"$(gcloud auth application-default print-access-token) \\\n",
    "-H \"Content-Type: application/json; charset=utf-8\" \\\n",
    "-d @{DIR}/request.json \\\n",
    "https://{REGION}-aiplatform.googleapis.com/v1/{endpoint.resource_name}:predict"
   ]
  },
  {
   "cell_type": "code",
   "execution_count": 41,
   "id": "43e76853-cbe4-4de6-96ea-432c168b19c1",
   "metadata": {
    "tags": []
   },
   "outputs": [
    {
     "name": "stdout",
     "output_type": "stream",
     "text": [
      "Using endpoint [https://us-central1-prediction-aiplatform.googleapis.com/]\n",
      "[{'classes': ['0', '1'], 'scores': [0.9999477863311768, 5.220998718868941e-05]}]\n"
     ]
    }
   ],
   "source": [
    "!gcloud beta ai endpoints predict {endpoint.name.rsplit('/',1)[-1]} --region={REGION} --json-request={DIR}/request.json\n"
   ]
  },
  {
   "cell_type": "code",
   "execution_count": 43,
   "id": "0034e7c3-f569-4d0d-ac0f-17cd811320c1",
   "metadata": {
    "tags": []
   },
   "outputs": [
    {
     "ename": "InvalidArgument",
     "evalue": "400 {\"error\": \"b'{\\\"error\\\": \\\"\\\"}'\"}",
     "output_type": "error",
     "traceback": [
      "\u001b[0;31m---------------------------------------------------------------------------\u001b[0m",
      "\u001b[0;31m_InactiveRpcError\u001b[0m                         Traceback (most recent call last)",
      "File \u001b[0;32m/opt/conda/lib/python3.10/site-packages/google/api_core/grpc_helpers.py:76\u001b[0m, in \u001b[0;36m_wrap_unary_errors.<locals>.error_remapped_callable\u001b[0;34m(*args, **kwargs)\u001b[0m\n\u001b[1;32m     75\u001b[0m \u001b[38;5;28;01mtry\u001b[39;00m:\n\u001b[0;32m---> 76\u001b[0m     \u001b[38;5;28;01mreturn\u001b[39;00m \u001b[43mcallable_\u001b[49m\u001b[43m(\u001b[49m\u001b[38;5;241;43m*\u001b[39;49m\u001b[43margs\u001b[49m\u001b[43m,\u001b[49m\u001b[43m \u001b[49m\u001b[38;5;241;43m*\u001b[39;49m\u001b[38;5;241;43m*\u001b[39;49m\u001b[43mkwargs\u001b[49m\u001b[43m)\u001b[49m\n\u001b[1;32m     77\u001b[0m \u001b[38;5;28;01mexcept\u001b[39;00m grpc\u001b[38;5;241m.\u001b[39mRpcError \u001b[38;5;28;01mas\u001b[39;00m exc:\n",
      "File \u001b[0;32m/opt/conda/lib/python3.10/site-packages/grpc/_channel.py:1160\u001b[0m, in \u001b[0;36m_UnaryUnaryMultiCallable.__call__\u001b[0;34m(self, request, timeout, metadata, credentials, wait_for_ready, compression)\u001b[0m\n\u001b[1;32m   1154\u001b[0m (\n\u001b[1;32m   1155\u001b[0m     state,\n\u001b[1;32m   1156\u001b[0m     call,\n\u001b[1;32m   1157\u001b[0m ) \u001b[38;5;241m=\u001b[39m \u001b[38;5;28mself\u001b[39m\u001b[38;5;241m.\u001b[39m_blocking(\n\u001b[1;32m   1158\u001b[0m     request, timeout, metadata, credentials, wait_for_ready, compression\n\u001b[1;32m   1159\u001b[0m )\n\u001b[0;32m-> 1160\u001b[0m \u001b[38;5;28;01mreturn\u001b[39;00m \u001b[43m_end_unary_response_blocking\u001b[49m\u001b[43m(\u001b[49m\u001b[43mstate\u001b[49m\u001b[43m,\u001b[49m\u001b[43m \u001b[49m\u001b[43mcall\u001b[49m\u001b[43m,\u001b[49m\u001b[43m \u001b[49m\u001b[38;5;28;43;01mFalse\u001b[39;49;00m\u001b[43m,\u001b[49m\u001b[43m \u001b[49m\u001b[38;5;28;43;01mNone\u001b[39;49;00m\u001b[43m)\u001b[49m\n",
      "File \u001b[0;32m/opt/conda/lib/python3.10/site-packages/grpc/_channel.py:1003\u001b[0m, in \u001b[0;36m_end_unary_response_blocking\u001b[0;34m(state, call, with_call, deadline)\u001b[0m\n\u001b[1;32m   1002\u001b[0m \u001b[38;5;28;01melse\u001b[39;00m:\n\u001b[0;32m-> 1003\u001b[0m     \u001b[38;5;28;01mraise\u001b[39;00m _InactiveRpcError(state)\n",
      "\u001b[0;31m_InactiveRpcError\u001b[0m: <_InactiveRpcError of RPC that terminated with:\n\tstatus = StatusCode.INVALID_ARGUMENT\n\tdetails = \"{\"error\": \"b'{\\\"error\\\": \\\"\\\"}'\"}\"\n\tdebug_error_string = \"UNKNOWN:Error received from peer ipv4:142.251.171.95:443 {grpc_message:\"{\\\"error\\\": \\\"b\\'{\\\\\\\"error\\\\\\\": \\\\\\\"\\\\\\\"}\\'\\\"}\", grpc_status:3, created_time:\"2024-02-20T20:27:51.407647587+00:00\"}\"\n>",
      "\nThe above exception was the direct cause of the following exception:\n",
      "\u001b[0;31mInvalidArgument\u001b[0m                           Traceback (most recent call last)",
      "Cell \u001b[0;32mIn[43], line 1\u001b[0m\n\u001b[0;32m----> 1\u001b[0m explanation \u001b[38;5;241m=\u001b[39m \u001b[43mendpoint\u001b[49m\u001b[38;5;241;43m.\u001b[39;49m\u001b[43mexplain\u001b[49m\u001b[43m(\u001b[49m\u001b[43minstances\u001b[49m\u001b[43m \u001b[49m\u001b[38;5;241;43m=\u001b[39;49m\u001b[43m \u001b[49m\u001b[43minstances\u001b[49m\u001b[43m)\u001b[49m\n",
      "File \u001b[0;32m/opt/conda/lib/python3.10/site-packages/google/cloud/aiplatform/models.py:1743\u001b[0m, in \u001b[0;36mEndpoint.explain\u001b[0;34m(self, instances, parameters, deployed_model_id, timeout)\u001b[0m\n\u001b[1;32m   1706\u001b[0m \u001b[38;5;250m\u001b[39m\u001b[38;5;124;03m\"\"\"Make a prediction with explanations against this Endpoint.\u001b[39;00m\n\u001b[1;32m   1707\u001b[0m \n\u001b[1;32m   1708\u001b[0m \u001b[38;5;124;03mExample usage:\u001b[39;00m\n\u001b[0;32m   (...)\u001b[0m\n\u001b[1;32m   1739\u001b[0m \u001b[38;5;124;03m        Prediction with returned predictions, explanations, and Model ID.\u001b[39;00m\n\u001b[1;32m   1740\u001b[0m \u001b[38;5;124;03m\"\"\"\u001b[39;00m\n\u001b[1;32m   1741\u001b[0m \u001b[38;5;28mself\u001b[39m\u001b[38;5;241m.\u001b[39mwait()\n\u001b[0;32m-> 1743\u001b[0m explain_response \u001b[38;5;241m=\u001b[39m \u001b[38;5;28;43mself\u001b[39;49m\u001b[38;5;241;43m.\u001b[39;49m\u001b[43m_prediction_client\u001b[49m\u001b[38;5;241;43m.\u001b[39;49m\u001b[43mexplain\u001b[49m\u001b[43m(\u001b[49m\n\u001b[1;32m   1744\u001b[0m \u001b[43m    \u001b[49m\u001b[43mendpoint\u001b[49m\u001b[38;5;241;43m=\u001b[39;49m\u001b[38;5;28;43mself\u001b[39;49m\u001b[38;5;241;43m.\u001b[39;49m\u001b[43mresource_name\u001b[49m\u001b[43m,\u001b[49m\n\u001b[1;32m   1745\u001b[0m \u001b[43m    \u001b[49m\u001b[43minstances\u001b[49m\u001b[38;5;241;43m=\u001b[39;49m\u001b[43minstances\u001b[49m\u001b[43m,\u001b[49m\n\u001b[1;32m   1746\u001b[0m \u001b[43m    \u001b[49m\u001b[43mparameters\u001b[49m\u001b[38;5;241;43m=\u001b[39;49m\u001b[43mparameters\u001b[49m\u001b[43m,\u001b[49m\n\u001b[1;32m   1747\u001b[0m \u001b[43m    \u001b[49m\u001b[43mdeployed_model_id\u001b[49m\u001b[38;5;241;43m=\u001b[39;49m\u001b[43mdeployed_model_id\u001b[49m\u001b[43m,\u001b[49m\n\u001b[1;32m   1748\u001b[0m \u001b[43m    \u001b[49m\u001b[43mtimeout\u001b[49m\u001b[38;5;241;43m=\u001b[39;49m\u001b[43mtimeout\u001b[49m\u001b[43m,\u001b[49m\n\u001b[1;32m   1749\u001b[0m \u001b[43m\u001b[49m\u001b[43m)\u001b[49m\n\u001b[1;32m   1751\u001b[0m \u001b[38;5;28;01mreturn\u001b[39;00m Prediction(\n\u001b[1;32m   1752\u001b[0m     predictions\u001b[38;5;241m=\u001b[39m[\n\u001b[1;32m   1753\u001b[0m         json_format\u001b[38;5;241m.\u001b[39mMessageToDict(item)\n\u001b[0;32m   (...)\u001b[0m\n\u001b[1;32m   1757\u001b[0m     explanations\u001b[38;5;241m=\u001b[39mexplain_response\u001b[38;5;241m.\u001b[39mexplanations,\n\u001b[1;32m   1758\u001b[0m )\n",
      "File \u001b[0;32m/opt/conda/lib/python3.10/site-packages/google/cloud/aiplatform_v1/services/prediction_service/client.py:1987\u001b[0m, in \u001b[0;36mPredictionServiceClient.explain\u001b[0;34m(self, request, endpoint, instances, parameters, deployed_model_id, retry, timeout, metadata)\u001b[0m\n\u001b[1;32m   1984\u001b[0m \u001b[38;5;28mself\u001b[39m\u001b[38;5;241m.\u001b[39m_validate_universe_domain()\n\u001b[1;32m   1986\u001b[0m \u001b[38;5;66;03m# Send the request.\u001b[39;00m\n\u001b[0;32m-> 1987\u001b[0m response \u001b[38;5;241m=\u001b[39m \u001b[43mrpc\u001b[49m\u001b[43m(\u001b[49m\n\u001b[1;32m   1988\u001b[0m \u001b[43m    \u001b[49m\u001b[43mrequest\u001b[49m\u001b[43m,\u001b[49m\n\u001b[1;32m   1989\u001b[0m \u001b[43m    \u001b[49m\u001b[43mretry\u001b[49m\u001b[38;5;241;43m=\u001b[39;49m\u001b[43mretry\u001b[49m\u001b[43m,\u001b[49m\n\u001b[1;32m   1990\u001b[0m \u001b[43m    \u001b[49m\u001b[43mtimeout\u001b[49m\u001b[38;5;241;43m=\u001b[39;49m\u001b[43mtimeout\u001b[49m\u001b[43m,\u001b[49m\n\u001b[1;32m   1991\u001b[0m \u001b[43m    \u001b[49m\u001b[43mmetadata\u001b[49m\u001b[38;5;241;43m=\u001b[39;49m\u001b[43mmetadata\u001b[49m\u001b[43m,\u001b[49m\n\u001b[1;32m   1992\u001b[0m \u001b[43m\u001b[49m\u001b[43m)\u001b[49m\n\u001b[1;32m   1994\u001b[0m \u001b[38;5;66;03m# Done; return the response.\u001b[39;00m\n\u001b[1;32m   1995\u001b[0m \u001b[38;5;28;01mreturn\u001b[39;00m response\n",
      "File \u001b[0;32m/opt/conda/lib/python3.10/site-packages/google/api_core/gapic_v1/method.py:131\u001b[0m, in \u001b[0;36m_GapicCallable.__call__\u001b[0;34m(self, timeout, retry, compression, *args, **kwargs)\u001b[0m\n\u001b[1;32m    128\u001b[0m \u001b[38;5;28;01mif\u001b[39;00m \u001b[38;5;28mself\u001b[39m\u001b[38;5;241m.\u001b[39m_compression \u001b[38;5;129;01mis\u001b[39;00m \u001b[38;5;129;01mnot\u001b[39;00m \u001b[38;5;28;01mNone\u001b[39;00m:\n\u001b[1;32m    129\u001b[0m     kwargs[\u001b[38;5;124m\"\u001b[39m\u001b[38;5;124mcompression\u001b[39m\u001b[38;5;124m\"\u001b[39m] \u001b[38;5;241m=\u001b[39m compression\n\u001b[0;32m--> 131\u001b[0m \u001b[38;5;28;01mreturn\u001b[39;00m \u001b[43mwrapped_func\u001b[49m\u001b[43m(\u001b[49m\u001b[38;5;241;43m*\u001b[39;49m\u001b[43margs\u001b[49m\u001b[43m,\u001b[49m\u001b[43m \u001b[49m\u001b[38;5;241;43m*\u001b[39;49m\u001b[38;5;241;43m*\u001b[39;49m\u001b[43mkwargs\u001b[49m\u001b[43m)\u001b[49m\n",
      "File \u001b[0;32m/opt/conda/lib/python3.10/site-packages/google/api_core/grpc_helpers.py:78\u001b[0m, in \u001b[0;36m_wrap_unary_errors.<locals>.error_remapped_callable\u001b[0;34m(*args, **kwargs)\u001b[0m\n\u001b[1;32m     76\u001b[0m     \u001b[38;5;28;01mreturn\u001b[39;00m callable_(\u001b[38;5;241m*\u001b[39margs, \u001b[38;5;241m*\u001b[39m\u001b[38;5;241m*\u001b[39mkwargs)\n\u001b[1;32m     77\u001b[0m \u001b[38;5;28;01mexcept\u001b[39;00m grpc\u001b[38;5;241m.\u001b[39mRpcError \u001b[38;5;28;01mas\u001b[39;00m exc:\n\u001b[0;32m---> 78\u001b[0m     \u001b[38;5;28;01mraise\u001b[39;00m exceptions\u001b[38;5;241m.\u001b[39mfrom_grpc_error(exc) \u001b[38;5;28;01mfrom\u001b[39;00m \u001b[38;5;21;01mexc\u001b[39;00m\n",
      "\u001b[0;31mInvalidArgument\u001b[0m: 400 {\"error\": \"b'{\\\"error\\\": \\\"\\\"}'\"}"
     ]
    }
   ],
   "source": [
    "explanation = endpoint.explain(instances = instances)"
   ]
  },
  {
   "cell_type": "code",
   "execution_count": 44,
   "id": "0d11d951-4136-4c0c-9ccc-e7ece3990d4a",
   "metadata": {
    "tags": []
   },
   "outputs": [
    {
     "ename": "NameError",
     "evalue": "name 'explanation' is not defined",
     "output_type": "error",
     "traceback": [
      "\u001b[0;31m---------------------------------------------------------------------------\u001b[0m",
      "\u001b[0;31mNameError\u001b[0m                                 Traceback (most recent call last)",
      "Cell \u001b[0;32mIn[44], line 1\u001b[0m\n\u001b[0;32m----> 1\u001b[0m \u001b[43mexplanation\u001b[49m\u001b[38;5;241m.\u001b[39mpredictions[\u001b[38;5;241m0\u001b[39m]\n",
      "\u001b[0;31mNameError\u001b[0m: name 'explanation' is not defined"
     ]
    }
   ],
   "source": [
    "explanation.predictions[0]\n"
   ]
  },
  {
   "cell_type": "code",
   "execution_count": 45,
   "id": "daf035e9-c03d-4acd-b0b2-ed74b4e3dd4a",
   "metadata": {
    "tags": []
   },
   "outputs": [
    {
     "ename": "NameError",
     "evalue": "name 'explanation' is not defined",
     "output_type": "error",
     "traceback": [
      "\u001b[0;31m---------------------------------------------------------------------------\u001b[0m",
      "\u001b[0;31mNameError\u001b[0m                                 Traceback (most recent call last)",
      "Cell \u001b[0;32mIn[45], line 4\u001b[0m\n\u001b[1;32m      2\u001b[0m features \u001b[38;5;241m=\u001b[39m []\n\u001b[1;32m      3\u001b[0m scores \u001b[38;5;241m=\u001b[39m []\n\u001b[0;32m----> 4\u001b[0m \u001b[38;5;28;01mfor\u001b[39;00m k \u001b[38;5;129;01min\u001b[39;00m \u001b[43mexplanation\u001b[49m\u001b[38;5;241m.\u001b[39mexplanations[\u001b[38;5;241m0\u001b[39m]\u001b[38;5;241m.\u001b[39mattributions[\u001b[38;5;241m0\u001b[39m]\u001b[38;5;241m.\u001b[39mfeature_attributions:\n\u001b[1;32m      5\u001b[0m     features\u001b[38;5;241m.\u001b[39mappend(k)\n\u001b[1;32m      6\u001b[0m     scores\u001b[38;5;241m.\u001b[39mappend(explanation\u001b[38;5;241m.\u001b[39mexplanations[\u001b[38;5;241m0\u001b[39m]\u001b[38;5;241m.\u001b[39mattributions[\u001b[38;5;241m0\u001b[39m]\u001b[38;5;241m.\u001b[39mfeature_attributions[k])\n",
      "\u001b[0;31mNameError\u001b[0m: name 'explanation' is not defined"
     ]
    }
   ],
   "source": [
    "import matplotlib.pyplot as plt\n",
    "features = []\n",
    "scores = []\n",
    "for k in explanation.explanations[0].attributions[0].feature_attributions:\n",
    "    features.append(k)\n",
    "    scores.append(explanation.explanations[0].attributions[0].feature_attributions[k])\n",
    "features = [x for _, x in sorted(zip(scores, features))]\n",
    "scores = sorted(scores)\n",
    "fig, ax = plt.subplots()\n",
    "fig.set_size_inches(9, 9)\n",
    "ax.barh(features, scores)\n",
    "fig.show()"
   ]
  },
  {
   "cell_type": "code",
   "execution_count": 46,
   "id": "bccf3424-972e-46e5-90eb-9ae7d5d9d02c",
   "metadata": {
    "tags": []
   },
   "outputs": [
    {
     "name": "stdout",
     "output_type": "stream",
     "text": [
      "Creating BatchPredictionJob\n",
      "BatchPredictionJob created. Resource name: projects/279275268617/locations/us-central1/batchPredictionJobs/8170465889481654272\n",
      "To use this BatchPredictionJob in another session:\n",
      "bpj = aiplatform.BatchPredictionJob('projects/279275268617/locations/us-central1/batchPredictionJobs/8170465889481654272')\n",
      "View Batch Prediction Job:\n",
      "https://console.cloud.google.com/ai/platform/locations/us-central1/batch-predictions/8170465889481654272?project=279275268617\n",
      "BatchPredictionJob projects/279275268617/locations/us-central1/batchPredictionJobs/8170465889481654272 current state:\n",
      "JobState.JOB_STATE_PENDING\n",
      "BatchPredictionJob projects/279275268617/locations/us-central1/batchPredictionJobs/8170465889481654272 current state:\n",
      "JobState.JOB_STATE_PENDING\n",
      "BatchPredictionJob projects/279275268617/locations/us-central1/batchPredictionJobs/8170465889481654272 current state:\n",
      "JobState.JOB_STATE_PENDING\n",
      "BatchPredictionJob projects/279275268617/locations/us-central1/batchPredictionJobs/8170465889481654272 current state:\n",
      "JobState.JOB_STATE_PENDING\n",
      "BatchPredictionJob projects/279275268617/locations/us-central1/batchPredictionJobs/8170465889481654272 current state:\n",
      "JobState.JOB_STATE_RUNNING\n",
      "BatchPredictionJob projects/279275268617/locations/us-central1/batchPredictionJobs/8170465889481654272 current state:\n",
      "JobState.JOB_STATE_RUNNING\n",
      "BatchPredictionJob projects/279275268617/locations/us-central1/batchPredictionJobs/8170465889481654272 current state:\n",
      "JobState.JOB_STATE_RUNNING\n",
      "BatchPredictionJob projects/279275268617/locations/us-central1/batchPredictionJobs/8170465889481654272 current state:\n",
      "JobState.JOB_STATE_RUNNING\n",
      "BatchPredictionJob projects/279275268617/locations/us-central1/batchPredictionJobs/8170465889481654272 current state:\n",
      "JobState.JOB_STATE_RUNNING\n",
      "BatchPredictionJob projects/279275268617/locations/us-central1/batchPredictionJobs/8170465889481654272 current state:\n",
      "JobState.JOB_STATE_RUNNING\n",
      "BatchPredictionJob projects/279275268617/locations/us-central1/batchPredictionJobs/8170465889481654272 current state:\n",
      "JobState.JOB_STATE_RUNNING\n",
      "BatchPredictionJob projects/279275268617/locations/us-central1/batchPredictionJobs/8170465889481654272 current state:\n",
      "JobState.JOB_STATE_RUNNING\n",
      "BatchPredictionJob projects/279275268617/locations/us-central1/batchPredictionJobs/8170465889481654272 current state:\n",
      "JobState.JOB_STATE_RUNNING\n",
      "BatchPredictionJob projects/279275268617/locations/us-central1/batchPredictionJobs/8170465889481654272 current state:\n",
      "JobState.JOB_STATE_SUCCEEDED\n",
      "BatchPredictionJob run completed. Resource name: projects/279275268617/locations/us-central1/batchPredictionJobs/8170465889481654272\n"
     ]
    }
   ],
   "source": [
    "batch = aiplatform.BatchPredictionJob.create(\n",
    "    job_display_name = f'{NOTEBOOK}_{DATANAME}_{TIMESTAMP}',\n",
    "    model_name = endpoint.list_models()[0].model,\n",
    "    instances_format = \"bigquery\",\n",
    "    predictions_format = \"bigquery\",\n",
    "    bigquery_source = f'bq://{PROJECT_ID}.{DATANAME}.{DATANAME}_prepped',\n",
    "    bigquery_destination_prefix = f\"{PROJECT_ID}\",\n",
    "    generate_explanation=True,\n",
    "    labels = {'notebook':f'{NOTEBOOK}'}\n",
    ")"
   ]
  },
  {
   "cell_type": "code",
   "execution_count": null,
   "id": "a836c2a5-7f1d-4971-96aa-9cbbaf2e3fa4",
   "metadata": {},
   "outputs": [],
   "source": []
  }
 ],
 "metadata": {
  "environment": {
   "kernel": "conda-root-py",
   "name": "workbench-notebooks.m115",
   "type": "gcloud",
   "uri": "gcr.io/deeplearning-platform-release/workbench-notebooks:m115"
  },
  "kernelspec": {
   "display_name": "Python 3 (ipykernel) (Local)",
   "language": "python",
   "name": "conda-root-py"
  },
  "language_info": {
   "codemirror_mode": {
    "name": "ipython",
    "version": 3
   },
   "file_extension": ".py",
   "mimetype": "text/x-python",
   "name": "python",
   "nbconvert_exporter": "python",
   "pygments_lexer": "ipython3",
   "version": "3.10.13"
  }
 },
 "nbformat": 4,
 "nbformat_minor": 5
}
